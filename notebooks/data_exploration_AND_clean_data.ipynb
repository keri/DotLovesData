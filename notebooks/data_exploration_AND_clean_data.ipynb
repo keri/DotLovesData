{
 "cells": [
  {
   "cell_type": "code",
   "execution_count": 3,
   "metadata": {},
   "outputs": [],
   "source": [
    "import pandas as pd\n",
    "import matplotlib.pyplot as plt\n",
    "%matplotlib inline "
   ]
  },
  {
   "cell_type": "code",
   "execution_count": 4,
   "metadata": {},
   "outputs": [
    {
     "data": {
      "text/html": [
       "<div>\n",
       "<style scoped>\n",
       "    .dataframe tbody tr th:only-of-type {\n",
       "        vertical-align: middle;\n",
       "    }\n",
       "\n",
       "    .dataframe tbody tr th {\n",
       "        vertical-align: top;\n",
       "    }\n",
       "\n",
       "    .dataframe thead th {\n",
       "        text-align: right;\n",
       "    }\n",
       "</style>\n",
       "<table border=\"1\" class=\"dataframe\">\n",
       "  <thead>\n",
       "    <tr style=\"text-align: right;\">\n",
       "      <th></th>\n",
       "      <th>Date</th>\n",
       "      <th>AU2017_code</th>\n",
       "      <th>crime</th>\n",
       "      <th>n</th>\n",
       "      <th>Pop</th>\n",
       "    </tr>\n",
       "  </thead>\n",
       "  <tbody>\n",
       "    <tr>\n",
       "      <th>0</th>\n",
       "      <td>2018-02-01</td>\n",
       "      <td>500100</td>\n",
       "      <td>Abduction</td>\n",
       "      <td>0</td>\n",
       "      <td>401</td>\n",
       "    </tr>\n",
       "    <tr>\n",
       "      <th>1</th>\n",
       "      <td>2018-03-01</td>\n",
       "      <td>500100</td>\n",
       "      <td>Abduction</td>\n",
       "      <td>0</td>\n",
       "      <td>402</td>\n",
       "    </tr>\n",
       "    <tr>\n",
       "      <th>2</th>\n",
       "      <td>2018-04-01</td>\n",
       "      <td>500100</td>\n",
       "      <td>Abduction</td>\n",
       "      <td>0</td>\n",
       "      <td>408</td>\n",
       "    </tr>\n",
       "    <tr>\n",
       "      <th>3</th>\n",
       "      <td>2018-05-01</td>\n",
       "      <td>500100</td>\n",
       "      <td>Abduction</td>\n",
       "      <td>0</td>\n",
       "      <td>409</td>\n",
       "    </tr>\n",
       "    <tr>\n",
       "      <th>4</th>\n",
       "      <td>2018-06-01</td>\n",
       "      <td>500100</td>\n",
       "      <td>Abduction</td>\n",
       "      <td>0</td>\n",
       "      <td>410</td>\n",
       "    </tr>\n",
       "  </tbody>\n",
       "</table>\n",
       "</div>"
      ],
      "text/plain": [
       "         Date  AU2017_code      crime  n  Pop\n",
       "0  2018-02-01       500100  Abduction  0  401\n",
       "1  2018-03-01       500100  Abduction  0  402\n",
       "2  2018-04-01       500100  Abduction  0  408\n",
       "3  2018-05-01       500100  Abduction  0  409\n",
       "4  2018-06-01       500100  Abduction  0  410"
      ]
     },
     "execution_count": 4,
     "metadata": {},
     "output_type": "execute_result"
    }
   ],
   "source": [
    "police = pd.read_csv('/Users/keri/git/DotLovesData/data/police data.csv')\n",
    "police.head()"
   ]
  },
  {
   "cell_type": "code",
   "execution_count": 5,
   "metadata": {},
   "outputs": [
    {
     "data": {
      "text/html": [
       "<div>\n",
       "<style scoped>\n",
       "    .dataframe tbody tr th:only-of-type {\n",
       "        vertical-align: middle;\n",
       "    }\n",
       "\n",
       "    .dataframe tbody tr th {\n",
       "        vertical-align: top;\n",
       "    }\n",
       "\n",
       "    .dataframe thead th {\n",
       "        text-align: right;\n",
       "    }\n",
       "</style>\n",
       "<table border=\"1\" class=\"dataframe\">\n",
       "  <thead>\n",
       "    <tr style=\"text-align: right;\">\n",
       "      <th></th>\n",
       "      <th>AU2017_code</th>\n",
       "      <th>Date</th>\n",
       "      <th>AU_GMP_PER_CAPITA</th>\n",
       "      <th>Dep_Index</th>\n",
       "      <th>AU2017_name</th>\n",
       "      <th>TA2018_name</th>\n",
       "      <th>TALB</th>\n",
       "    </tr>\n",
       "  </thead>\n",
       "  <tbody>\n",
       "    <tr>\n",
       "      <th>0</th>\n",
       "      <td>500100</td>\n",
       "      <td>2013-03-01</td>\n",
       "      <td>62.732541</td>\n",
       "      <td>9.0</td>\n",
       "      <td>Awanui</td>\n",
       "      <td>Far North District</td>\n",
       "      <td>Far North District</td>\n",
       "    </tr>\n",
       "    <tr>\n",
       "      <th>1</th>\n",
       "      <td>500202</td>\n",
       "      <td>2013-03-01</td>\n",
       "      <td>12.123131</td>\n",
       "      <td>9.0</td>\n",
       "      <td>Karikari Peninsula-Maungataniwha</td>\n",
       "      <td>Far North District</td>\n",
       "      <td>Far North District</td>\n",
       "    </tr>\n",
       "    <tr>\n",
       "      <th>2</th>\n",
       "      <td>500203</td>\n",
       "      <td>2013-03-01</td>\n",
       "      <td>151.841014</td>\n",
       "      <td>9.0</td>\n",
       "      <td>Taipa Bay-Mangonui</td>\n",
       "      <td>Far North District</td>\n",
       "      <td>Far North District</td>\n",
       "    </tr>\n",
       "    <tr>\n",
       "      <th>3</th>\n",
       "      <td>500204</td>\n",
       "      <td>2013-03-01</td>\n",
       "      <td>56.465011</td>\n",
       "      <td>8.0</td>\n",
       "      <td>Herekino</td>\n",
       "      <td>Far North District</td>\n",
       "      <td>Far North District</td>\n",
       "    </tr>\n",
       "    <tr>\n",
       "      <th>4</th>\n",
       "      <td>500205</td>\n",
       "      <td>2013-03-01</td>\n",
       "      <td>0.000000</td>\n",
       "      <td>9.0</td>\n",
       "      <td>Ahipara</td>\n",
       "      <td>Far North District</td>\n",
       "      <td>Far North District</td>\n",
       "    </tr>\n",
       "  </tbody>\n",
       "</table>\n",
       "</div>"
      ],
      "text/plain": [
       "   AU2017_code        Date  AU_GMP_PER_CAPITA  Dep_Index  \\\n",
       "0       500100  2013-03-01          62.732541        9.0   \n",
       "1       500202  2013-03-01          12.123131        9.0   \n",
       "2       500203  2013-03-01         151.841014        9.0   \n",
       "3       500204  2013-03-01          56.465011        8.0   \n",
       "4       500205  2013-03-01           0.000000        9.0   \n",
       "\n",
       "                        AU2017_name         TA2018_name                TALB  \n",
       "0                            Awanui  Far North District  Far North District  \n",
       "1  Karikari Peninsula-Maungataniwha  Far North District  Far North District  \n",
       "2                Taipa Bay-Mangonui  Far North District  Far North District  \n",
       "3                          Herekino  Far North District  Far North District  \n",
       "4                           Ahipara  Far North District  Far North District  "
      ]
     },
     "execution_count": 5,
     "metadata": {},
     "output_type": "execute_result"
    }
   ],
   "source": [
    "community = pd.read_csv('/Users/keri/git/DotLovesData/data/community data.csv')\n",
    "community.head()"
   ]
  },
  {
   "cell_type": "code",
   "execution_count": 6,
   "metadata": {},
   "outputs": [
    {
     "data": {
      "text/plain": [
       "(16461, 7)"
      ]
     },
     "execution_count": 6,
     "metadata": {},
     "output_type": "execute_result"
    }
   ],
   "source": [
    "community.shape"
   ]
  },
  {
   "cell_type": "code",
   "execution_count": 7,
   "metadata": {},
   "outputs": [
    {
     "data": {
      "text/plain": [
       "(241605, 5)"
      ]
     },
     "execution_count": 7,
     "metadata": {},
     "output_type": "execute_result"
    }
   ],
   "source": [
    "police.shape"
   ]
  },
  {
   "cell_type": "code",
   "execution_count": 8,
   "metadata": {},
   "outputs": [
    {
     "data": {
      "text/html": [
       "<div>\n",
       "<style scoped>\n",
       "    .dataframe tbody tr th:only-of-type {\n",
       "        vertical-align: middle;\n",
       "    }\n",
       "\n",
       "    .dataframe tbody tr th {\n",
       "        vertical-align: top;\n",
       "    }\n",
       "\n",
       "    .dataframe thead th {\n",
       "        text-align: right;\n",
       "    }\n",
       "</style>\n",
       "<table border=\"1\" class=\"dataframe\">\n",
       "  <thead>\n",
       "    <tr style=\"text-align: right;\">\n",
       "      <th></th>\n",
       "      <th>AU2017_code</th>\n",
       "      <th>AU_GMP_PER_CAPITA</th>\n",
       "      <th>Dep_Index</th>\n",
       "    </tr>\n",
       "  </thead>\n",
       "  <tbody>\n",
       "    <tr>\n",
       "      <th>count</th>\n",
       "      <td>16461.000000</td>\n",
       "      <td>16461.000000</td>\n",
       "      <td>15159.000000</td>\n",
       "    </tr>\n",
       "    <tr>\n",
       "      <th>mean</th>\n",
       "      <td>520229.964218</td>\n",
       "      <td>51.083592</td>\n",
       "      <td>5.664226</td>\n",
       "    </tr>\n",
       "    <tr>\n",
       "      <th>std</th>\n",
       "      <td>26352.084129</td>\n",
       "      <td>39.843059</td>\n",
       "      <td>2.950049</td>\n",
       "    </tr>\n",
       "    <tr>\n",
       "      <th>min</th>\n",
       "      <td>500100.000000</td>\n",
       "      <td>0.000000</td>\n",
       "      <td>1.000000</td>\n",
       "    </tr>\n",
       "    <tr>\n",
       "      <th>25%</th>\n",
       "      <td>506655.000000</td>\n",
       "      <td>22.662427</td>\n",
       "      <td>3.000000</td>\n",
       "    </tr>\n",
       "    <tr>\n",
       "      <th>50%</th>\n",
       "      <td>514500.000000</td>\n",
       "      <td>49.593881</td>\n",
       "      <td>5.000000</td>\n",
       "    </tr>\n",
       "    <tr>\n",
       "      <th>75%</th>\n",
       "      <td>522712.000000</td>\n",
       "      <td>70.565751</td>\n",
       "      <td>8.000000</td>\n",
       "    </tr>\n",
       "    <tr>\n",
       "      <th>max</th>\n",
       "      <td>617903.000000</td>\n",
       "      <td>391.258348</td>\n",
       "      <td>10.000000</td>\n",
       "    </tr>\n",
       "  </tbody>\n",
       "</table>\n",
       "</div>"
      ],
      "text/plain": [
       "         AU2017_code  AU_GMP_PER_CAPITA     Dep_Index\n",
       "count   16461.000000       16461.000000  15159.000000\n",
       "mean   520229.964218          51.083592      5.664226\n",
       "std     26352.084129          39.843059      2.950049\n",
       "min    500100.000000           0.000000      1.000000\n",
       "25%    506655.000000          22.662427      3.000000\n",
       "50%    514500.000000          49.593881      5.000000\n",
       "75%    522712.000000          70.565751      8.000000\n",
       "max    617903.000000         391.258348     10.000000"
      ]
     },
     "execution_count": 8,
     "metadata": {},
     "output_type": "execute_result"
    }
   ],
   "source": [
    "community.describe()"
   ]
  },
  {
   "cell_type": "code",
   "execution_count": 9,
   "metadata": {},
   "outputs": [
    {
     "data": {
      "text/html": [
       "<div>\n",
       "<style scoped>\n",
       "    .dataframe tbody tr th:only-of-type {\n",
       "        vertical-align: middle;\n",
       "    }\n",
       "\n",
       "    .dataframe tbody tr th {\n",
       "        vertical-align: top;\n",
       "    }\n",
       "\n",
       "    .dataframe thead th {\n",
       "        text-align: right;\n",
       "    }\n",
       "</style>\n",
       "<table border=\"1\" class=\"dataframe\">\n",
       "  <thead>\n",
       "    <tr style=\"text-align: right;\">\n",
       "      <th></th>\n",
       "      <th>AU2017_code</th>\n",
       "      <th>n</th>\n",
       "      <th>Pop</th>\n",
       "    </tr>\n",
       "  </thead>\n",
       "  <tbody>\n",
       "    <tr>\n",
       "      <th>count</th>\n",
       "      <td>241605.000000</td>\n",
       "      <td>241605.000000</td>\n",
       "      <td>241605.000000</td>\n",
       "    </tr>\n",
       "    <tr>\n",
       "      <th>mean</th>\n",
       "      <td>520229.964218</td>\n",
       "      <td>1.009209</td>\n",
       "      <td>3451.114017</td>\n",
       "    </tr>\n",
       "    <tr>\n",
       "      <th>std</th>\n",
       "      <td>26351.338211</td>\n",
       "      <td>3.013260</td>\n",
       "      <td>2343.551581</td>\n",
       "    </tr>\n",
       "    <tr>\n",
       "      <th>min</th>\n",
       "      <td>500100.000000</td>\n",
       "      <td>0.000000</td>\n",
       "      <td>0.000000</td>\n",
       "    </tr>\n",
       "    <tr>\n",
       "      <th>25%</th>\n",
       "      <td>506655.000000</td>\n",
       "      <td>0.000000</td>\n",
       "      <td>1683.000000</td>\n",
       "    </tr>\n",
       "    <tr>\n",
       "      <th>50%</th>\n",
       "      <td>514500.000000</td>\n",
       "      <td>0.000000</td>\n",
       "      <td>3410.000000</td>\n",
       "    </tr>\n",
       "    <tr>\n",
       "      <th>75%</th>\n",
       "      <td>522712.000000</td>\n",
       "      <td>1.000000</td>\n",
       "      <td>4963.000000</td>\n",
       "    </tr>\n",
       "    <tr>\n",
       "      <th>max</th>\n",
       "      <td>617903.000000</td>\n",
       "      <td>113.000000</td>\n",
       "      <td>15447.000000</td>\n",
       "    </tr>\n",
       "  </tbody>\n",
       "</table>\n",
       "</div>"
      ],
      "text/plain": [
       "         AU2017_code              n            Pop\n",
       "count  241605.000000  241605.000000  241605.000000\n",
       "mean   520229.964218       1.009209    3451.114017\n",
       "std     26351.338211       3.013260    2343.551581\n",
       "min    500100.000000       0.000000       0.000000\n",
       "25%    506655.000000       0.000000    1683.000000\n",
       "50%    514500.000000       0.000000    3410.000000\n",
       "75%    522712.000000       1.000000    4963.000000\n",
       "max    617903.000000     113.000000   15447.000000"
      ]
     },
     "execution_count": 9,
     "metadata": {},
     "output_type": "execute_result"
    }
   ],
   "source": [
    "police.describe()"
   ]
  },
  {
   "cell_type": "markdown",
   "metadata": {},
   "source": [
    "# Merge Community and Police Spreadsheets"
   ]
  },
  {
   "cell_type": "code",
   "execution_count": 10,
   "metadata": {},
   "outputs": [],
   "source": [
    "merged_df = community.merge(police,on='AU2017_code')"
   ]
  },
  {
   "cell_type": "code",
   "execution_count": 11,
   "metadata": {},
   "outputs": [
    {
     "data": {
      "text/plain": [
       "(7489755, 11)"
      ]
     },
     "execution_count": 11,
     "metadata": {},
     "output_type": "execute_result"
    }
   ],
   "source": [
    "merged_df.shape"
   ]
  },
  {
   "cell_type": "markdown",
   "metadata": {},
   "source": [
    "# Explore NA data\n",
    "\n",
    "-- Take the list of codes in merged datasets to see if there is any non null data\n",
    "\n",
    "-- All data from the codes in code_na.index df are missing deprivation scores, GMP per capita, and not sure if population data is accurate as it is 0 in all quartiles except 75% which has a mean of 7."
   ]
  },
  {
   "cell_type": "code",
   "execution_count": 12,
   "metadata": {},
   "outputs": [
    {
     "data": {
      "text/plain": [
       "AU2017_code             0\n",
       "Date                    0\n",
       "AU_GMP_PER_CAPITA       0\n",
       "Dep_Index            1302\n",
       "AU2017_name             0\n",
       "TA2018_name             0\n",
       "TALB                    0\n",
       "dtype: int64"
      ]
     },
     "execution_count": 12,
     "metadata": {},
     "output_type": "execute_result"
    }
   ],
   "source": [
    "community.isna().sum(axis=0)"
   ]
  },
  {
   "cell_type": "code",
   "execution_count": 13,
   "metadata": {},
   "outputs": [
    {
     "data": {
      "text/plain": [
       "Date           0\n",
       "AU2017_code    0\n",
       "crime          0\n",
       "n              0\n",
       "Pop            0\n",
       "dtype: int64"
      ]
     },
     "execution_count": 13,
     "metadata": {},
     "output_type": "execute_result"
    }
   ],
   "source": [
    "police.isna().sum()"
   ]
  },
  {
   "cell_type": "code",
   "execution_count": 14,
   "metadata": {},
   "outputs": [
    {
     "data": {
      "text/plain": [
       "(31, 6)"
      ]
     },
     "execution_count": 14,
     "metadata": {},
     "output_type": "execute_result"
    }
   ],
   "source": [
    "#There are 31 different dates that have na as the deprivation index. \n",
    "#Does this mean you will find the same codes in every date?\n",
    "community[community['Dep_Index'].isna()].groupby(by='Date').count().shape"
   ]
  },
  {
   "cell_type": "code",
   "execution_count": 15,
   "metadata": {},
   "outputs": [
    {
     "data": {
      "text/html": [
       "<div>\n",
       "<style scoped>\n",
       "    .dataframe tbody tr th:only-of-type {\n",
       "        vertical-align: middle;\n",
       "    }\n",
       "\n",
       "    .dataframe tbody tr th {\n",
       "        vertical-align: top;\n",
       "    }\n",
       "\n",
       "    .dataframe thead th {\n",
       "        text-align: right;\n",
       "    }\n",
       "</style>\n",
       "<table border=\"1\" class=\"dataframe\">\n",
       "  <thead>\n",
       "    <tr style=\"text-align: right;\">\n",
       "      <th></th>\n",
       "      <th>AU2017_code</th>\n",
       "      <th>AU_GMP_PER_CAPITA</th>\n",
       "      <th>Dep_Index</th>\n",
       "      <th>AU2017_name</th>\n",
       "      <th>TA2018_name</th>\n",
       "      <th>TALB</th>\n",
       "    </tr>\n",
       "  </thead>\n",
       "  <tbody>\n",
       "    <tr>\n",
       "      <th>count</th>\n",
       "      <td>31.0</td>\n",
       "      <td>31.0</td>\n",
       "      <td>31.0</td>\n",
       "      <td>31.0</td>\n",
       "      <td>31.0</td>\n",
       "      <td>31.0</td>\n",
       "    </tr>\n",
       "    <tr>\n",
       "      <th>mean</th>\n",
       "      <td>42.0</td>\n",
       "      <td>42.0</td>\n",
       "      <td>0.0</td>\n",
       "      <td>42.0</td>\n",
       "      <td>42.0</td>\n",
       "      <td>42.0</td>\n",
       "    </tr>\n",
       "    <tr>\n",
       "      <th>std</th>\n",
       "      <td>0.0</td>\n",
       "      <td>0.0</td>\n",
       "      <td>0.0</td>\n",
       "      <td>0.0</td>\n",
       "      <td>0.0</td>\n",
       "      <td>0.0</td>\n",
       "    </tr>\n",
       "    <tr>\n",
       "      <th>min</th>\n",
       "      <td>42.0</td>\n",
       "      <td>42.0</td>\n",
       "      <td>0.0</td>\n",
       "      <td>42.0</td>\n",
       "      <td>42.0</td>\n",
       "      <td>42.0</td>\n",
       "    </tr>\n",
       "    <tr>\n",
       "      <th>25%</th>\n",
       "      <td>42.0</td>\n",
       "      <td>42.0</td>\n",
       "      <td>0.0</td>\n",
       "      <td>42.0</td>\n",
       "      <td>42.0</td>\n",
       "      <td>42.0</td>\n",
       "    </tr>\n",
       "    <tr>\n",
       "      <th>50%</th>\n",
       "      <td>42.0</td>\n",
       "      <td>42.0</td>\n",
       "      <td>0.0</td>\n",
       "      <td>42.0</td>\n",
       "      <td>42.0</td>\n",
       "      <td>42.0</td>\n",
       "    </tr>\n",
       "    <tr>\n",
       "      <th>75%</th>\n",
       "      <td>42.0</td>\n",
       "      <td>42.0</td>\n",
       "      <td>0.0</td>\n",
       "      <td>42.0</td>\n",
       "      <td>42.0</td>\n",
       "      <td>42.0</td>\n",
       "    </tr>\n",
       "    <tr>\n",
       "      <th>max</th>\n",
       "      <td>42.0</td>\n",
       "      <td>42.0</td>\n",
       "      <td>0.0</td>\n",
       "      <td>42.0</td>\n",
       "      <td>42.0</td>\n",
       "      <td>42.0</td>\n",
       "    </tr>\n",
       "  </tbody>\n",
       "</table>\n",
       "</div>"
      ],
      "text/plain": [
       "       AU2017_code  AU_GMP_PER_CAPITA  Dep_Index  AU2017_name  TA2018_name  \\\n",
       "count         31.0               31.0       31.0         31.0         31.0   \n",
       "mean          42.0               42.0        0.0         42.0         42.0   \n",
       "std            0.0                0.0        0.0          0.0          0.0   \n",
       "min           42.0               42.0        0.0         42.0         42.0   \n",
       "25%           42.0               42.0        0.0         42.0         42.0   \n",
       "50%           42.0               42.0        0.0         42.0         42.0   \n",
       "75%           42.0               42.0        0.0         42.0         42.0   \n",
       "max           42.0               42.0        0.0         42.0         42.0   \n",
       "\n",
       "       TALB  \n",
       "count  31.0  \n",
       "mean   42.0  \n",
       "std     0.0  \n",
       "min    42.0  \n",
       "25%    42.0  \n",
       "50%    42.0  \n",
       "75%    42.0  \n",
       "max    42.0  "
      ]
     },
     "execution_count": 15,
     "metadata": {},
     "output_type": "execute_result"
    }
   ],
   "source": [
    "#There are 42 codes for each 31 rows of dates. \n",
    "community[community['Dep_Index'].isna()].groupby(by='Date').count().describe()"
   ]
  },
  {
   "cell_type": "code",
   "execution_count": 16,
   "metadata": {},
   "outputs": [
    {
     "data": {
      "text/plain": [
       "(42, 6)"
      ]
     },
     "execution_count": 16,
     "metadata": {},
     "output_type": "execute_result"
    }
   ],
   "source": [
    "community[community['Dep_Index'].isna()].groupby(by='AU2017_code').count().shape"
   ]
  },
  {
   "cell_type": "code",
   "execution_count": 17,
   "metadata": {},
   "outputs": [
    {
     "data": {
      "text/html": [
       "<div>\n",
       "<style scoped>\n",
       "    .dataframe tbody tr th:only-of-type {\n",
       "        vertical-align: middle;\n",
       "    }\n",
       "\n",
       "    .dataframe tbody tr th {\n",
       "        vertical-align: top;\n",
       "    }\n",
       "\n",
       "    .dataframe thead th {\n",
       "        text-align: right;\n",
       "    }\n",
       "</style>\n",
       "<table border=\"1\" class=\"dataframe\">\n",
       "  <thead>\n",
       "    <tr style=\"text-align: right;\">\n",
       "      <th></th>\n",
       "      <th>Date</th>\n",
       "      <th>AU_GMP_PER_CAPITA</th>\n",
       "      <th>Dep_Index</th>\n",
       "      <th>AU2017_name</th>\n",
       "      <th>TA2018_name</th>\n",
       "      <th>TALB</th>\n",
       "    </tr>\n",
       "    <tr>\n",
       "      <th>AU2017_code</th>\n",
       "      <th></th>\n",
       "      <th></th>\n",
       "      <th></th>\n",
       "      <th></th>\n",
       "      <th></th>\n",
       "      <th></th>\n",
       "    </tr>\n",
       "  </thead>\n",
       "  <tbody>\n",
       "    <tr>\n",
       "      <th>501613</th>\n",
       "      <td>31</td>\n",
       "      <td>31</td>\n",
       "      <td>0</td>\n",
       "      <td>31</td>\n",
       "      <td>31</td>\n",
       "      <td>31</td>\n",
       "    </tr>\n",
       "    <tr>\n",
       "      <th>501813</th>\n",
       "      <td>31</td>\n",
       "      <td>31</td>\n",
       "      <td>0</td>\n",
       "      <td>31</td>\n",
       "      <td>31</td>\n",
       "      <td>31</td>\n",
       "    </tr>\n",
       "    <tr>\n",
       "      <th>505911</th>\n",
       "      <td>31</td>\n",
       "      <td>31</td>\n",
       "      <td>0</td>\n",
       "      <td>31</td>\n",
       "      <td>31</td>\n",
       "      <td>31</td>\n",
       "    </tr>\n",
       "    <tr>\n",
       "      <th>506620</th>\n",
       "      <td>31</td>\n",
       "      <td>31</td>\n",
       "      <td>0</td>\n",
       "      <td>31</td>\n",
       "      <td>31</td>\n",
       "      <td>31</td>\n",
       "    </tr>\n",
       "    <tr>\n",
       "      <th>520803</th>\n",
       "      <td>31</td>\n",
       "      <td>31</td>\n",
       "      <td>0</td>\n",
       "      <td>31</td>\n",
       "      <td>31</td>\n",
       "      <td>31</td>\n",
       "    </tr>\n",
       "    <tr>\n",
       "      <th>520804</th>\n",
       "      <td>31</td>\n",
       "      <td>31</td>\n",
       "      <td>0</td>\n",
       "      <td>31</td>\n",
       "      <td>31</td>\n",
       "      <td>31</td>\n",
       "    </tr>\n",
       "    <tr>\n",
       "      <th>520900</th>\n",
       "      <td>31</td>\n",
       "      <td>31</td>\n",
       "      <td>0</td>\n",
       "      <td>31</td>\n",
       "      <td>31</td>\n",
       "      <td>31</td>\n",
       "    </tr>\n",
       "    <tr>\n",
       "      <th>522605</th>\n",
       "      <td>31</td>\n",
       "      <td>31</td>\n",
       "      <td>0</td>\n",
       "      <td>31</td>\n",
       "      <td>31</td>\n",
       "      <td>31</td>\n",
       "    </tr>\n",
       "    <tr>\n",
       "      <th>614502</th>\n",
       "      <td>31</td>\n",
       "      <td>31</td>\n",
       "      <td>0</td>\n",
       "      <td>31</td>\n",
       "      <td>31</td>\n",
       "      <td>31</td>\n",
       "    </tr>\n",
       "    <tr>\n",
       "      <th>614601</th>\n",
       "      <td>31</td>\n",
       "      <td>31</td>\n",
       "      <td>0</td>\n",
       "      <td>31</td>\n",
       "      <td>31</td>\n",
       "      <td>31</td>\n",
       "    </tr>\n",
       "    <tr>\n",
       "      <th>614700</th>\n",
       "      <td>31</td>\n",
       "      <td>31</td>\n",
       "      <td>0</td>\n",
       "      <td>31</td>\n",
       "      <td>31</td>\n",
       "      <td>31</td>\n",
       "    </tr>\n",
       "    <tr>\n",
       "      <th>614800</th>\n",
       "      <td>31</td>\n",
       "      <td>31</td>\n",
       "      <td>0</td>\n",
       "      <td>31</td>\n",
       "      <td>31</td>\n",
       "      <td>31</td>\n",
       "    </tr>\n",
       "    <tr>\n",
       "      <th>615101</th>\n",
       "      <td>31</td>\n",
       "      <td>31</td>\n",
       "      <td>0</td>\n",
       "      <td>31</td>\n",
       "      <td>31</td>\n",
       "      <td>31</td>\n",
       "    </tr>\n",
       "    <tr>\n",
       "      <th>615102</th>\n",
       "      <td>31</td>\n",
       "      <td>31</td>\n",
       "      <td>0</td>\n",
       "      <td>31</td>\n",
       "      <td>31</td>\n",
       "      <td>31</td>\n",
       "    </tr>\n",
       "    <tr>\n",
       "      <th>615301</th>\n",
       "      <td>31</td>\n",
       "      <td>31</td>\n",
       "      <td>0</td>\n",
       "      <td>31</td>\n",
       "      <td>31</td>\n",
       "      <td>31</td>\n",
       "    </tr>\n",
       "    <tr>\n",
       "      <th>615302</th>\n",
       "      <td>31</td>\n",
       "      <td>31</td>\n",
       "      <td>0</td>\n",
       "      <td>31</td>\n",
       "      <td>31</td>\n",
       "      <td>31</td>\n",
       "    </tr>\n",
       "    <tr>\n",
       "      <th>615800</th>\n",
       "      <td>31</td>\n",
       "      <td>31</td>\n",
       "      <td>0</td>\n",
       "      <td>31</td>\n",
       "      <td>31</td>\n",
       "      <td>31</td>\n",
       "    </tr>\n",
       "    <tr>\n",
       "      <th>615900</th>\n",
       "      <td>31</td>\n",
       "      <td>31</td>\n",
       "      <td>0</td>\n",
       "      <td>31</td>\n",
       "      <td>31</td>\n",
       "      <td>31</td>\n",
       "    </tr>\n",
       "    <tr>\n",
       "      <th>616001</th>\n",
       "      <td>31</td>\n",
       "      <td>31</td>\n",
       "      <td>0</td>\n",
       "      <td>31</td>\n",
       "      <td>31</td>\n",
       "      <td>31</td>\n",
       "    </tr>\n",
       "    <tr>\n",
       "      <th>616002</th>\n",
       "      <td>31</td>\n",
       "      <td>31</td>\n",
       "      <td>0</td>\n",
       "      <td>31</td>\n",
       "      <td>31</td>\n",
       "      <td>31</td>\n",
       "    </tr>\n",
       "    <tr>\n",
       "      <th>616100</th>\n",
       "      <td>31</td>\n",
       "      <td>31</td>\n",
       "      <td>0</td>\n",
       "      <td>31</td>\n",
       "      <td>31</td>\n",
       "      <td>31</td>\n",
       "    </tr>\n",
       "    <tr>\n",
       "      <th>616200</th>\n",
       "      <td>31</td>\n",
       "      <td>31</td>\n",
       "      <td>0</td>\n",
       "      <td>31</td>\n",
       "      <td>31</td>\n",
       "      <td>31</td>\n",
       "    </tr>\n",
       "    <tr>\n",
       "      <th>616300</th>\n",
       "      <td>31</td>\n",
       "      <td>31</td>\n",
       "      <td>0</td>\n",
       "      <td>31</td>\n",
       "      <td>31</td>\n",
       "      <td>31</td>\n",
       "    </tr>\n",
       "    <tr>\n",
       "      <th>616400</th>\n",
       "      <td>31</td>\n",
       "      <td>31</td>\n",
       "      <td>0</td>\n",
       "      <td>31</td>\n",
       "      <td>31</td>\n",
       "      <td>31</td>\n",
       "    </tr>\n",
       "    <tr>\n",
       "      <th>617101</th>\n",
       "      <td>31</td>\n",
       "      <td>31</td>\n",
       "      <td>0</td>\n",
       "      <td>31</td>\n",
       "      <td>31</td>\n",
       "      <td>31</td>\n",
       "    </tr>\n",
       "    <tr>\n",
       "      <th>617102</th>\n",
       "      <td>31</td>\n",
       "      <td>31</td>\n",
       "      <td>0</td>\n",
       "      <td>31</td>\n",
       "      <td>31</td>\n",
       "      <td>31</td>\n",
       "    </tr>\n",
       "    <tr>\n",
       "      <th>617200</th>\n",
       "      <td>31</td>\n",
       "      <td>31</td>\n",
       "      <td>0</td>\n",
       "      <td>31</td>\n",
       "      <td>31</td>\n",
       "      <td>31</td>\n",
       "    </tr>\n",
       "    <tr>\n",
       "      <th>617400</th>\n",
       "      <td>31</td>\n",
       "      <td>31</td>\n",
       "      <td>0</td>\n",
       "      <td>31</td>\n",
       "      <td>31</td>\n",
       "      <td>31</td>\n",
       "    </tr>\n",
       "    <tr>\n",
       "      <th>617501</th>\n",
       "      <td>31</td>\n",
       "      <td>31</td>\n",
       "      <td>0</td>\n",
       "      <td>31</td>\n",
       "      <td>31</td>\n",
       "      <td>31</td>\n",
       "    </tr>\n",
       "    <tr>\n",
       "      <th>617502</th>\n",
       "      <td>31</td>\n",
       "      <td>31</td>\n",
       "      <td>0</td>\n",
       "      <td>31</td>\n",
       "      <td>31</td>\n",
       "      <td>31</td>\n",
       "    </tr>\n",
       "    <tr>\n",
       "      <th>617503</th>\n",
       "      <td>31</td>\n",
       "      <td>31</td>\n",
       "      <td>0</td>\n",
       "      <td>31</td>\n",
       "      <td>31</td>\n",
       "      <td>31</td>\n",
       "    </tr>\n",
       "    <tr>\n",
       "      <th>617602</th>\n",
       "      <td>31</td>\n",
       "      <td>31</td>\n",
       "      <td>0</td>\n",
       "      <td>31</td>\n",
       "      <td>31</td>\n",
       "      <td>31</td>\n",
       "    </tr>\n",
       "    <tr>\n",
       "      <th>617604</th>\n",
       "      <td>31</td>\n",
       "      <td>31</td>\n",
       "      <td>0</td>\n",
       "      <td>31</td>\n",
       "      <td>31</td>\n",
       "      <td>31</td>\n",
       "    </tr>\n",
       "    <tr>\n",
       "      <th>617605</th>\n",
       "      <td>31</td>\n",
       "      <td>31</td>\n",
       "      <td>0</td>\n",
       "      <td>31</td>\n",
       "      <td>31</td>\n",
       "      <td>31</td>\n",
       "    </tr>\n",
       "    <tr>\n",
       "      <th>617606</th>\n",
       "      <td>31</td>\n",
       "      <td>31</td>\n",
       "      <td>0</td>\n",
       "      <td>31</td>\n",
       "      <td>31</td>\n",
       "      <td>31</td>\n",
       "    </tr>\n",
       "    <tr>\n",
       "      <th>617702</th>\n",
       "      <td>31</td>\n",
       "      <td>31</td>\n",
       "      <td>0</td>\n",
       "      <td>31</td>\n",
       "      <td>31</td>\n",
       "      <td>31</td>\n",
       "    </tr>\n",
       "    <tr>\n",
       "      <th>617703</th>\n",
       "      <td>31</td>\n",
       "      <td>31</td>\n",
       "      <td>0</td>\n",
       "      <td>31</td>\n",
       "      <td>31</td>\n",
       "      <td>31</td>\n",
       "    </tr>\n",
       "    <tr>\n",
       "      <th>617704</th>\n",
       "      <td>31</td>\n",
       "      <td>31</td>\n",
       "      <td>0</td>\n",
       "      <td>31</td>\n",
       "      <td>31</td>\n",
       "      <td>31</td>\n",
       "    </tr>\n",
       "    <tr>\n",
       "      <th>617800</th>\n",
       "      <td>31</td>\n",
       "      <td>31</td>\n",
       "      <td>0</td>\n",
       "      <td>31</td>\n",
       "      <td>31</td>\n",
       "      <td>31</td>\n",
       "    </tr>\n",
       "    <tr>\n",
       "      <th>617901</th>\n",
       "      <td>31</td>\n",
       "      <td>31</td>\n",
       "      <td>0</td>\n",
       "      <td>31</td>\n",
       "      <td>31</td>\n",
       "      <td>31</td>\n",
       "    </tr>\n",
       "    <tr>\n",
       "      <th>617902</th>\n",
       "      <td>31</td>\n",
       "      <td>31</td>\n",
       "      <td>0</td>\n",
       "      <td>31</td>\n",
       "      <td>31</td>\n",
       "      <td>31</td>\n",
       "    </tr>\n",
       "    <tr>\n",
       "      <th>617903</th>\n",
       "      <td>31</td>\n",
       "      <td>31</td>\n",
       "      <td>0</td>\n",
       "      <td>31</td>\n",
       "      <td>31</td>\n",
       "      <td>31</td>\n",
       "    </tr>\n",
       "  </tbody>\n",
       "</table>\n",
       "</div>"
      ],
      "text/plain": [
       "             Date  AU_GMP_PER_CAPITA  Dep_Index  AU2017_name  TA2018_name  \\\n",
       "AU2017_code                                                                 \n",
       "501613         31                 31          0           31           31   \n",
       "501813         31                 31          0           31           31   \n",
       "505911         31                 31          0           31           31   \n",
       "506620         31                 31          0           31           31   \n",
       "520803         31                 31          0           31           31   \n",
       "520804         31                 31          0           31           31   \n",
       "520900         31                 31          0           31           31   \n",
       "522605         31                 31          0           31           31   \n",
       "614502         31                 31          0           31           31   \n",
       "614601         31                 31          0           31           31   \n",
       "614700         31                 31          0           31           31   \n",
       "614800         31                 31          0           31           31   \n",
       "615101         31                 31          0           31           31   \n",
       "615102         31                 31          0           31           31   \n",
       "615301         31                 31          0           31           31   \n",
       "615302         31                 31          0           31           31   \n",
       "615800         31                 31          0           31           31   \n",
       "615900         31                 31          0           31           31   \n",
       "616001         31                 31          0           31           31   \n",
       "616002         31                 31          0           31           31   \n",
       "616100         31                 31          0           31           31   \n",
       "616200         31                 31          0           31           31   \n",
       "616300         31                 31          0           31           31   \n",
       "616400         31                 31          0           31           31   \n",
       "617101         31                 31          0           31           31   \n",
       "617102         31                 31          0           31           31   \n",
       "617200         31                 31          0           31           31   \n",
       "617400         31                 31          0           31           31   \n",
       "617501         31                 31          0           31           31   \n",
       "617502         31                 31          0           31           31   \n",
       "617503         31                 31          0           31           31   \n",
       "617602         31                 31          0           31           31   \n",
       "617604         31                 31          0           31           31   \n",
       "617605         31                 31          0           31           31   \n",
       "617606         31                 31          0           31           31   \n",
       "617702         31                 31          0           31           31   \n",
       "617703         31                 31          0           31           31   \n",
       "617704         31                 31          0           31           31   \n",
       "617800         31                 31          0           31           31   \n",
       "617901         31                 31          0           31           31   \n",
       "617902         31                 31          0           31           31   \n",
       "617903         31                 31          0           31           31   \n",
       "\n",
       "             TALB  \n",
       "AU2017_code        \n",
       "501613         31  \n",
       "501813         31  \n",
       "505911         31  \n",
       "506620         31  \n",
       "520803         31  \n",
       "520804         31  \n",
       "520900         31  \n",
       "522605         31  \n",
       "614502         31  \n",
       "614601         31  \n",
       "614700         31  \n",
       "614800         31  \n",
       "615101         31  \n",
       "615102         31  \n",
       "615301         31  \n",
       "615302         31  \n",
       "615800         31  \n",
       "615900         31  \n",
       "616001         31  \n",
       "616002         31  \n",
       "616100         31  \n",
       "616200         31  \n",
       "616300         31  \n",
       "616400         31  \n",
       "617101         31  \n",
       "617102         31  \n",
       "617200         31  \n",
       "617400         31  \n",
       "617501         31  \n",
       "617502         31  \n",
       "617503         31  \n",
       "617602         31  \n",
       "617604         31  \n",
       "617605         31  \n",
       "617606         31  \n",
       "617702         31  \n",
       "617703         31  \n",
       "617704         31  \n",
       "617800         31  \n",
       "617901         31  \n",
       "617902         31  \n",
       "617903         31  "
      ]
     },
     "execution_count": 17,
     "metadata": {},
     "output_type": "execute_result"
    }
   ],
   "source": [
    "#confirmed using code in instead of date, to ensure there would be 42 rows of codes with 31 dates in each.\n",
    "community[community['Dep_Index'].isna()].groupby(by='AU2017_code').count()"
   ]
  },
  {
   "cell_type": "code",
   "execution_count": 18,
   "metadata": {},
   "outputs": [
    {
     "data": {
      "text/plain": [
       "Int64Index([501613, 501813, 505911, 506620, 520803, 520804, 520900, 522605,\n",
       "            614502, 614601, 614700, 614800, 615101, 615102, 615301, 615302,\n",
       "            615800, 615900, 616001, 616002, 616100, 616200, 616300, 616400,\n",
       "            617101, 617102, 617200, 617400, 617501, 617502, 617503, 617602,\n",
       "            617604, 617605, 617606, 617702, 617703, 617704, 617800, 617901,\n",
       "            617902, 617903],\n",
       "           dtype='int64', name='AU2017_code')"
      ]
     },
     "execution_count": 18,
     "metadata": {},
     "output_type": "execute_result"
    }
   ],
   "source": [
    "#the AU2017_code values that have data missing across all days\n",
    "code_na = community[community['Dep_Index'].isna()].groupby(by='AU2017_code').count()\n",
    "code_na.index"
   ]
  },
  {
   "cell_type": "code",
   "execution_count": 19,
   "metadata": {},
   "outputs": [],
   "source": [
    "#get merged data for all codes with NA\n",
    "all_na = merged_df[merged_df['AU2017_code'].isin(list(code_na.index))]"
   ]
  },
  {
   "cell_type": "code",
   "execution_count": 20,
   "metadata": {},
   "outputs": [
    {
     "data": {
      "text/plain": [
       "(592410, 11)"
      ]
     },
     "execution_count": 20,
     "metadata": {},
     "output_type": "execute_result"
    }
   ],
   "source": [
    "all_na.shape"
   ]
  },
  {
   "cell_type": "code",
   "execution_count": 21,
   "metadata": {},
   "outputs": [
    {
     "data": {
      "text/plain": [
       "AU2017_code               0\n",
       "Date_x                    0\n",
       "AU_GMP_PER_CAPITA         0\n",
       "Dep_Index            592410\n",
       "AU2017_name               0\n",
       "TA2018_name               0\n",
       "TALB                      0\n",
       "Date_y                    0\n",
       "crime                     0\n",
       "n                         0\n",
       "Pop                       0\n",
       "dtype: int64"
      ]
     },
     "execution_count": 21,
     "metadata": {},
     "output_type": "execute_result"
    }
   ],
   "source": [
    "#double check there is no other missing data in other columns\n",
    "all_na.isna().sum()"
   ]
  },
  {
   "cell_type": "code",
   "execution_count": 22,
   "metadata": {},
   "outputs": [
    {
     "data": {
      "text/html": [
       "<div>\n",
       "<style scoped>\n",
       "    .dataframe tbody tr th:only-of-type {\n",
       "        vertical-align: middle;\n",
       "    }\n",
       "\n",
       "    .dataframe tbody tr th {\n",
       "        vertical-align: top;\n",
       "    }\n",
       "\n",
       "    .dataframe thead th {\n",
       "        text-align: right;\n",
       "    }\n",
       "</style>\n",
       "<table border=\"1\" class=\"dataframe\">\n",
       "  <thead>\n",
       "    <tr style=\"text-align: right;\">\n",
       "      <th></th>\n",
       "      <th>AU2017_code</th>\n",
       "      <th>AU_GMP_PER_CAPITA</th>\n",
       "      <th>Dep_Index</th>\n",
       "      <th>n</th>\n",
       "      <th>Pop</th>\n",
       "    </tr>\n",
       "  </thead>\n",
       "  <tbody>\n",
       "    <tr>\n",
       "      <th>count</th>\n",
       "      <td>592410.000000</td>\n",
       "      <td>592410.0</td>\n",
       "      <td>0.0</td>\n",
       "      <td>592410.000000</td>\n",
       "      <td>592410.000000</td>\n",
       "    </tr>\n",
       "    <tr>\n",
       "      <th>mean</th>\n",
       "      <td>596798.142857</td>\n",
       "      <td>0.0</td>\n",
       "      <td>NaN</td>\n",
       "      <td>0.011617</td>\n",
       "      <td>8.486395</td>\n",
       "    </tr>\n",
       "    <tr>\n",
       "      <th>std</th>\n",
       "      <td>41019.220354</td>\n",
       "      <td>0.0</td>\n",
       "      <td>NaN</td>\n",
       "      <td>0.123490</td>\n",
       "      <td>22.048377</td>\n",
       "    </tr>\n",
       "    <tr>\n",
       "      <th>min</th>\n",
       "      <td>501613.000000</td>\n",
       "      <td>0.0</td>\n",
       "      <td>NaN</td>\n",
       "      <td>0.000000</td>\n",
       "      <td>0.000000</td>\n",
       "    </tr>\n",
       "    <tr>\n",
       "      <th>25%</th>\n",
       "      <td>614700.000000</td>\n",
       "      <td>0.0</td>\n",
       "      <td>NaN</td>\n",
       "      <td>0.000000</td>\n",
       "      <td>0.000000</td>\n",
       "    </tr>\n",
       "    <tr>\n",
       "      <th>50%</th>\n",
       "      <td>616150.000000</td>\n",
       "      <td>0.0</td>\n",
       "      <td>NaN</td>\n",
       "      <td>0.000000</td>\n",
       "      <td>0.000000</td>\n",
       "    </tr>\n",
       "    <tr>\n",
       "      <th>75%</th>\n",
       "      <td>617602.000000</td>\n",
       "      <td>0.0</td>\n",
       "      <td>NaN</td>\n",
       "      <td>0.000000</td>\n",
       "      <td>7.000000</td>\n",
       "    </tr>\n",
       "    <tr>\n",
       "      <th>max</th>\n",
       "      <td>617903.000000</td>\n",
       "      <td>0.0</td>\n",
       "      <td>NaN</td>\n",
       "      <td>4.000000</td>\n",
       "      <td>126.000000</td>\n",
       "    </tr>\n",
       "  </tbody>\n",
       "</table>\n",
       "</div>"
      ],
      "text/plain": [
       "         AU2017_code  AU_GMP_PER_CAPITA  Dep_Index              n  \\\n",
       "count  592410.000000           592410.0        0.0  592410.000000   \n",
       "mean   596798.142857                0.0        NaN       0.011617   \n",
       "std     41019.220354                0.0        NaN       0.123490   \n",
       "min    501613.000000                0.0        NaN       0.000000   \n",
       "25%    614700.000000                0.0        NaN       0.000000   \n",
       "50%    616150.000000                0.0        NaN       0.000000   \n",
       "75%    617602.000000                0.0        NaN       0.000000   \n",
       "max    617903.000000                0.0        NaN       4.000000   \n",
       "\n",
       "                 Pop  \n",
       "count  592410.000000  \n",
       "mean        8.486395  \n",
       "std        22.048377  \n",
       "min         0.000000  \n",
       "25%         0.000000  \n",
       "50%         0.000000  \n",
       "75%         7.000000  \n",
       "max       126.000000  "
      ]
     },
     "execution_count": 22,
     "metadata": {},
     "output_type": "execute_result"
    }
   ],
   "source": [
    "#there is police data so need to think about how to deal with NA if we are asking questions/predicting about crime rates.\n",
    "all_na.describe()"
   ]
  },
  {
   "cell_type": "code",
   "execution_count": 22,
   "metadata": {},
   "outputs": [
    {
     "data": {
      "text/html": [
       "<div>\n",
       "<style scoped>\n",
       "    .dataframe tbody tr th:only-of-type {\n",
       "        vertical-align: middle;\n",
       "    }\n",
       "\n",
       "    .dataframe tbody tr th {\n",
       "        vertical-align: top;\n",
       "    }\n",
       "\n",
       "    .dataframe thead th {\n",
       "        text-align: right;\n",
       "    }\n",
       "</style>\n",
       "<table border=\"1\" class=\"dataframe\">\n",
       "  <thead>\n",
       "    <tr style=\"text-align: right;\">\n",
       "      <th></th>\n",
       "      <th>AU2017_code</th>\n",
       "      <th>Date_x</th>\n",
       "      <th>AU_GMP_PER_CAPITA</th>\n",
       "      <th>Dep_Index</th>\n",
       "      <th>AU2017_name</th>\n",
       "      <th>TA2018_name</th>\n",
       "      <th>TALB</th>\n",
       "      <th>Date_y</th>\n",
       "      <th>crime</th>\n",
       "      <th>n</th>\n",
       "      <th>Pop</th>\n",
       "    </tr>\n",
       "  </thead>\n",
       "  <tbody>\n",
       "    <tr>\n",
       "      <th>352625</th>\n",
       "      <td>501613</td>\n",
       "      <td>2013-03-01</td>\n",
       "      <td>0.0</td>\n",
       "      <td>NaN</td>\n",
       "      <td>Bay of Islands</td>\n",
       "      <td>Far North District</td>\n",
       "      <td>Far North District</td>\n",
       "      <td>2018-07-01</td>\n",
       "      <td>Abduction</td>\n",
       "      <td>0</td>\n",
       "      <td>11</td>\n",
       "    </tr>\n",
       "    <tr>\n",
       "      <th>352626</th>\n",
       "      <td>501613</td>\n",
       "      <td>2013-03-01</td>\n",
       "      <td>0.0</td>\n",
       "      <td>NaN</td>\n",
       "      <td>Bay of Islands</td>\n",
       "      <td>Far North District</td>\n",
       "      <td>Far North District</td>\n",
       "      <td>2018-08-01</td>\n",
       "      <td>Abduction</td>\n",
       "      <td>0</td>\n",
       "      <td>11</td>\n",
       "    </tr>\n",
       "    <tr>\n",
       "      <th>352627</th>\n",
       "      <td>501613</td>\n",
       "      <td>2013-03-01</td>\n",
       "      <td>0.0</td>\n",
       "      <td>NaN</td>\n",
       "      <td>Bay of Islands</td>\n",
       "      <td>Far North District</td>\n",
       "      <td>Far North District</td>\n",
       "      <td>2019-01-01</td>\n",
       "      <td>Abduction</td>\n",
       "      <td>0</td>\n",
       "      <td>12</td>\n",
       "    </tr>\n",
       "    <tr>\n",
       "      <th>352628</th>\n",
       "      <td>501613</td>\n",
       "      <td>2013-03-01</td>\n",
       "      <td>0.0</td>\n",
       "      <td>NaN</td>\n",
       "      <td>Bay of Islands</td>\n",
       "      <td>Far North District</td>\n",
       "      <td>Far North District</td>\n",
       "      <td>2019-03-01</td>\n",
       "      <td>Abduction</td>\n",
       "      <td>0</td>\n",
       "      <td>12</td>\n",
       "    </tr>\n",
       "    <tr>\n",
       "      <th>352629</th>\n",
       "      <td>501613</td>\n",
       "      <td>2013-03-01</td>\n",
       "      <td>0.0</td>\n",
       "      <td>NaN</td>\n",
       "      <td>Bay of Islands</td>\n",
       "      <td>Far North District</td>\n",
       "      <td>Far North District</td>\n",
       "      <td>2020-02-01</td>\n",
       "      <td>Abduction</td>\n",
       "      <td>0</td>\n",
       "      <td>13</td>\n",
       "    </tr>\n",
       "  </tbody>\n",
       "</table>\n",
       "</div>"
      ],
      "text/plain": [
       "        AU2017_code      Date_x  AU_GMP_PER_CAPITA  Dep_Index     AU2017_name  \\\n",
       "352625       501613  2013-03-01                0.0        NaN  Bay of Islands   \n",
       "352626       501613  2013-03-01                0.0        NaN  Bay of Islands   \n",
       "352627       501613  2013-03-01                0.0        NaN  Bay of Islands   \n",
       "352628       501613  2013-03-01                0.0        NaN  Bay of Islands   \n",
       "352629       501613  2013-03-01                0.0        NaN  Bay of Islands   \n",
       "\n",
       "               TA2018_name                TALB      Date_y      crime  n  Pop  \n",
       "352625  Far North District  Far North District  2018-07-01  Abduction  0   11  \n",
       "352626  Far North District  Far North District  2018-08-01  Abduction  0   11  \n",
       "352627  Far North District  Far North District  2019-01-01  Abduction  0   12  \n",
       "352628  Far North District  Far North District  2019-03-01  Abduction  0   12  \n",
       "352629  Far North District  Far North District  2020-02-01  Abduction  0   13  "
      ]
     },
     "execution_count": 22,
     "metadata": {},
     "output_type": "execute_result"
    }
   ],
   "source": [
    "all_na.head()"
   ]
  },
  {
   "cell_type": "code",
   "execution_count": 42,
   "metadata": {},
   "outputs": [
    {
     "name": "stderr",
     "output_type": "stream",
     "text": [
      "/Users/keri/anaconda/envs/python3/lib/python3.6/site-packages/ipykernel_launcher.py:1: SettingWithCopyWarning: \n",
      "A value is trying to be set on a copy of a slice from a DataFrame.\n",
      "Try using .loc[row_indexer,col_indexer] = value instead\n",
      "\n",
      "See the caveats in the documentation: https://pandas.pydata.org/pandas-docs/stable/user_guide/indexing.html#returning-a-view-versus-a-copy\n",
      "  \"\"\"Entry point for launching an IPython kernel.\n"
     ]
    }
   ],
   "source": [
    "all_na['crime_proportion'] = all_na['n'] / all_na['Pop']"
   ]
  },
  {
   "cell_type": "code",
   "execution_count": 43,
   "metadata": {},
   "outputs": [
    {
     "name": "stderr",
     "output_type": "stream",
     "text": [
      "/Users/keri/anaconda/envs/python3/lib/python3.6/site-packages/ipykernel_launcher.py:3: SettingWithCopyWarning: \n",
      "A value is trying to be set on a copy of a slice from a DataFrame.\n",
      "Try using .loc[row_indexer,col_indexer] = value instead\n",
      "\n",
      "See the caveats in the documentation: https://pandas.pydata.org/pandas-docs/stable/user_guide/indexing.html#returning-a-view-versus-a-copy\n",
      "  This is separate from the ipykernel package so we can avoid doing imports until\n"
     ]
    }
   ],
   "source": [
    "#get only the rows that have reported crimes\n",
    "na_greater_zero = all_na[all_na['n'] > 0]\n",
    "na_greater_zero['crime_proportion'] = na_greater_zero['n'] / na_greater_zero['Pop']"
   ]
  },
  {
   "cell_type": "code",
   "execution_count": 24,
   "metadata": {},
   "outputs": [
    {
     "data": {
      "text/plain": [
       "array([501613, 506620, 520803, 520804, 520900, 522605, 614502, 614800,\n",
       "       615101, 615102, 615301, 616002, 617101, 617400, 617501, 617602,\n",
       "       617605, 617606, 617702, 617703, 617704, 617901, 617902, 617903])"
      ]
     },
     "execution_count": 24,
     "metadata": {},
     "output_type": "execute_result"
    }
   ],
   "source": [
    "na_greater_zero['AU2017_code'].unique()"
   ]
  },
  {
   "cell_type": "code",
   "execution_count": 25,
   "metadata": {},
   "outputs": [
    {
     "data": {
      "text/plain": [
       "array(['2018-07-01', '2018-08-01', '2019-01-01', '2019-03-01',\n",
       "       '2020-06-01', '2020-02-01', '2020-12-01', '2020-11-01',\n",
       "       '2020-04-01', '2018-10-01', '2018-11-01', '2019-07-01',\n",
       "       '2019-12-01', '2020-09-01', '2018-12-01', '2018-02-01',\n",
       "       '2019-05-01', '2019-10-01', '2020-03-01', '2020-07-01',\n",
       "       '2018-03-01', '2020-08-01', '2019-04-01', '2018-09-01',\n",
       "       '2018-04-01', '2019-02-01', '2020-01-01', '2018-06-01',\n",
       "       '2020-10-01', '2019-11-01', '2019-06-01', '2018-05-01',\n",
       "       '2020-05-01', '2019-09-01'], dtype=object)"
      ]
     },
     "execution_count": 25,
     "metadata": {},
     "output_type": "execute_result"
    }
   ],
   "source": [
    "na_greater_zero['Date_y'].unique()"
   ]
  },
  {
   "cell_type": "code",
   "execution_count": 94,
   "metadata": {},
   "outputs": [
    {
     "data": {
      "image/png": "[encoded data removed]",
      "text/plain": [
       "<Figure size 1080x504 with 1 Axes>"
      ]
     },
     "metadata": {
      "needs_background": "light"
     },
     "output_type": "display_data"
    }
   ],
   "source": [
    "fig, ax = plt.subplots(figsize=(15,7))\n",
    "\n",
    "na_greater_zero.groupby(['TALB','crime']).mean()['crime_proportion'].unstack().plot(kind='bar',ax=ax,title='Crime Incidence/population by Area Unit')\n",
    "plt.tight_layout()\n",
    "plt.savefig('/Users/keri/git/DotLovesData/visuals/NANDataCrimeDataByTALB.png')"
   ]
  },
  {
   "cell_type": "code",
   "execution_count": 93,
   "metadata": {},
   "outputs": [
    {
     "data": {
      "image/png": "[encoded data removed]",
      "text/plain": [
       "<Figure size 1080x504 with 1 Axes>"
      ]
     },
     "metadata": {
      "needs_background": "light"
     },
     "output_type": "display_data"
    }
   ],
   "source": [
    "fig, ax = plt.subplots(figsize=(15,7))\n",
    "\n",
    "na_greater_zero.groupby(['Date_y','crime']).mean()['crime_proportion'].unstack().plot(kind='bar',ax=ax,title='NAN Data Crime Incidence/population by Date')\n",
    "plt.tight_layout()\n",
    "plt.savefig('/Users/keri/git/DotLovesData/visuals/NANDateCrimeDataByDate.png')"
   ]
  },
  {
   "cell_type": "markdown",
   "metadata": {},
   "source": [
    "# Clean Data\n",
    "\n",
    "-- Remove the columns with NA values, of which I have confirmed there is no information in police data "
   ]
  },
  {
   "cell_type": "code",
   "execution_count": 26,
   "metadata": {},
   "outputs": [
    {
     "data": {
      "text/plain": [
       "AU2017_code               0\n",
       "Date_x                    0\n",
       "AU_GMP_PER_CAPITA         0\n",
       "Dep_Index            592410\n",
       "AU2017_name               0\n",
       "TA2018_name               0\n",
       "TALB                      0\n",
       "Date_y                    0\n",
       "crime                     0\n",
       "n                         0\n",
       "Pop                       0\n",
       "dtype: int64"
      ]
     },
     "execution_count": 26,
     "metadata": {},
     "output_type": "execute_result"
    }
   ],
   "source": [
    "merged_df.isna().sum()"
   ]
  },
  {
   "cell_type": "code",
   "execution_count": 27,
   "metadata": {},
   "outputs": [],
   "source": [
    "#df = df[df['EPS'].notna()]\n",
    "merged_cleaned = merged_df[merged_df['Dep_Index'].notna()]"
   ]
  },
  {
   "cell_type": "code",
   "execution_count": 33,
   "metadata": {},
   "outputs": [
    {
     "data": {
      "text/plain": [
       "(6897345, 11)"
      ]
     },
     "execution_count": 33,
     "metadata": {},
     "output_type": "execute_result"
    }
   ],
   "source": [
    "merged_cleaned.shape"
   ]
  },
  {
   "cell_type": "code",
   "execution_count": 30,
   "metadata": {},
   "outputs": [
    {
     "data": {
      "text/html": [
       "<div>\n",
       "<style scoped>\n",
       "    .dataframe tbody tr th:only-of-type {\n",
       "        vertical-align: middle;\n",
       "    }\n",
       "\n",
       "    .dataframe tbody tr th {\n",
       "        vertical-align: top;\n",
       "    }\n",
       "\n",
       "    .dataframe thead th {\n",
       "        text-align: right;\n",
       "    }\n",
       "</style>\n",
       "<table border=\"1\" class=\"dataframe\">\n",
       "  <thead>\n",
       "    <tr style=\"text-align: right;\">\n",
       "      <th></th>\n",
       "      <th>AU2017_code</th>\n",
       "      <th>Date_x</th>\n",
       "      <th>AU_GMP_PER_CAPITA</th>\n",
       "      <th>Dep_Index</th>\n",
       "      <th>AU2017_name</th>\n",
       "      <th>TA2018_name</th>\n",
       "      <th>TALB</th>\n",
       "      <th>Date_y</th>\n",
       "      <th>crime</th>\n",
       "      <th>n</th>\n",
       "      <th>Pop</th>\n",
       "    </tr>\n",
       "  </thead>\n",
       "  <tbody>\n",
       "    <tr>\n",
       "      <th>0</th>\n",
       "      <td>500100</td>\n",
       "      <td>2013-03-01</td>\n",
       "      <td>62.732541</td>\n",
       "      <td>9.0</td>\n",
       "      <td>Awanui</td>\n",
       "      <td>Far North District</td>\n",
       "      <td>Far North District</td>\n",
       "      <td>2018-02-01</td>\n",
       "      <td>Abduction</td>\n",
       "      <td>0</td>\n",
       "      <td>401</td>\n",
       "    </tr>\n",
       "    <tr>\n",
       "      <th>1</th>\n",
       "      <td>500100</td>\n",
       "      <td>2013-03-01</td>\n",
       "      <td>62.732541</td>\n",
       "      <td>9.0</td>\n",
       "      <td>Awanui</td>\n",
       "      <td>Far North District</td>\n",
       "      <td>Far North District</td>\n",
       "      <td>2018-03-01</td>\n",
       "      <td>Abduction</td>\n",
       "      <td>0</td>\n",
       "      <td>402</td>\n",
       "    </tr>\n",
       "    <tr>\n",
       "      <th>2</th>\n",
       "      <td>500100</td>\n",
       "      <td>2013-03-01</td>\n",
       "      <td>62.732541</td>\n",
       "      <td>9.0</td>\n",
       "      <td>Awanui</td>\n",
       "      <td>Far North District</td>\n",
       "      <td>Far North District</td>\n",
       "      <td>2018-04-01</td>\n",
       "      <td>Abduction</td>\n",
       "      <td>0</td>\n",
       "      <td>408</td>\n",
       "    </tr>\n",
       "    <tr>\n",
       "      <th>3</th>\n",
       "      <td>500100</td>\n",
       "      <td>2013-03-01</td>\n",
       "      <td>62.732541</td>\n",
       "      <td>9.0</td>\n",
       "      <td>Awanui</td>\n",
       "      <td>Far North District</td>\n",
       "      <td>Far North District</td>\n",
       "      <td>2018-05-01</td>\n",
       "      <td>Abduction</td>\n",
       "      <td>0</td>\n",
       "      <td>409</td>\n",
       "    </tr>\n",
       "    <tr>\n",
       "      <th>4</th>\n",
       "      <td>500100</td>\n",
       "      <td>2013-03-01</td>\n",
       "      <td>62.732541</td>\n",
       "      <td>9.0</td>\n",
       "      <td>Awanui</td>\n",
       "      <td>Far North District</td>\n",
       "      <td>Far North District</td>\n",
       "      <td>2018-06-01</td>\n",
       "      <td>Abduction</td>\n",
       "      <td>0</td>\n",
       "      <td>410</td>\n",
       "    </tr>\n",
       "  </tbody>\n",
       "</table>\n",
       "</div>"
      ],
      "text/plain": [
       "   AU2017_code      Date_x  AU_GMP_PER_CAPITA  Dep_Index AU2017_name  \\\n",
       "0       500100  2013-03-01          62.732541        9.0      Awanui   \n",
       "1       500100  2013-03-01          62.732541        9.0      Awanui   \n",
       "2       500100  2013-03-01          62.732541        9.0      Awanui   \n",
       "3       500100  2013-03-01          62.732541        9.0      Awanui   \n",
       "4       500100  2013-03-01          62.732541        9.0      Awanui   \n",
       "\n",
       "          TA2018_name                TALB      Date_y      crime  n  Pop  \n",
       "0  Far North District  Far North District  2018-02-01  Abduction  0  401  \n",
       "1  Far North District  Far North District  2018-03-01  Abduction  0  402  \n",
       "2  Far North District  Far North District  2018-04-01  Abduction  0  408  \n",
       "3  Far North District  Far North District  2018-05-01  Abduction  0  409  \n",
       "4  Far North District  Far North District  2018-06-01  Abduction  0  410  "
      ]
     },
     "execution_count": 30,
     "metadata": {},
     "output_type": "execute_result"
    }
   ],
   "source": [
    "merged_cleaned.head()"
   ]
  },
  {
   "cell_type": "code",
   "execution_count": 31,
   "metadata": {},
   "outputs": [
    {
     "data": {
      "text/plain": [
       "24"
      ]
     },
     "execution_count": 31,
     "metadata": {},
     "output_type": "execute_result"
    }
   ],
   "source": [
    "len(merged_cleaned['TALB'].unique())"
   ]
  },
  {
   "cell_type": "code",
   "execution_count": 32,
   "metadata": {},
   "outputs": [
    {
     "data": {
      "text/plain": [
       "4"
      ]
     },
     "execution_count": 32,
     "metadata": {},
     "output_type": "execute_result"
    }
   ],
   "source": [
    "len(merged_cleaned['TA2018_name'].unique())"
   ]
  },
  {
   "cell_type": "code",
   "execution_count": 35,
   "metadata": {},
   "outputs": [
    {
     "data": {
      "text/plain": [
       "4"
      ]
     },
     "execution_count": 35,
     "metadata": {},
     "output_type": "execute_result"
    }
   ],
   "source": [
    "len(merged_df['TA2018_name'].unique())"
   ]
  },
  {
   "cell_type": "code",
   "execution_count": 36,
   "metadata": {},
   "outputs": [
    {
     "data": {
      "text/plain": [
       "24"
      ]
     },
     "execution_count": 36,
     "metadata": {},
     "output_type": "execute_result"
    }
   ],
   "source": [
    "len(merged_df['TALB'].unique())"
   ]
  },
  {
   "cell_type": "code",
   "execution_count": 34,
   "metadata": {},
   "outputs": [],
   "source": [
    "merged_cleaned.to_csv('/Users/keri/git/DotLovesData/data/mergedNoNan.csv',index=False)"
   ]
  },
  {
   "cell_type": "code",
   "execution_count": 97,
   "metadata": {},
   "outputs": [],
   "source": [
    "na_greater_zero.to_csv('/Users/keri/git/DotLovesData/data/NanCrimeGreaterThanZero.csv',index=False)"
   ]
  },
  {
   "cell_type": "code",
   "execution_count": 40,
   "metadata": {},
   "outputs": [
    {
     "name": "stderr",
     "output_type": "stream",
     "text": [
      "/Users/keri/anaconda/envs/python3/lib/python3.6/site-packages/numpy/core/_asarray.py:83: VisibleDeprecationWarning: Creating an ndarray from ragged nested sequences (which is a list-or-tuple of lists-or-tuples-or ndarrays with different lengths or shapes) is deprecated. If you meant to do this, you must specify 'dtype=object' when creating the ndarray\n",
      "  return array(a, dtype, copy=False, order=order)\n"
     ]
    },
    {
     "data": {
      "image/png": "[encoded data removed]",
      "text/plain": [
       "<Figure size 1080x1080 with 1 Axes>"
      ]
     },
     "metadata": {
      "needs_background": "light"
     },
     "output_type": "display_data"
    }
   ],
   "source": [
    "merged_cleaned.boxplot(column='AU_GMP_PER_CAPITA',by='TALB',figsize=(15,15),rot=90)\n",
    "plt.savefig('/Users/keri/git/DotLovesData/visuals/BoxPlotGMPByTALB.png')"
   ]
  },
  {
   "cell_type": "code",
   "execution_count": 45,
   "metadata": {},
   "outputs": [
    {
     "name": "stderr",
     "output_type": "stream",
     "text": [
      "/Users/keri/anaconda/envs/python3/lib/python3.6/site-packages/ipykernel_launcher.py:1: SettingWithCopyWarning: \n",
      "A value is trying to be set on a copy of a slice from a DataFrame.\n",
      "Try using .loc[row_indexer,col_indexer] = value instead\n",
      "\n",
      "See the caveats in the documentation: https://pandas.pydata.org/pandas-docs/stable/user_guide/indexing.html#returning-a-view-versus-a-copy\n",
      "  \"\"\"Entry point for launching an IPython kernel.\n"
     ]
    }
   ],
   "source": [
    "merged_cleaned['crime_proportion'] = merged_cleaned['n'] / merged_cleaned['Pop']"
   ]
  },
  {
   "cell_type": "code",
   "execution_count": 95,
   "metadata": {},
   "outputs": [
    {
     "data": {
      "image/png": "[encoded data removed]",
      "text/plain": [
       "<Figure size 1080x720 with 3 Axes>"
      ]
     },
     "metadata": {
      "needs_background": "light"
     },
     "output_type": "display_data"
    }
   ],
   "source": [
    "fig, ax = plt.subplots(figsize=(15,10))\n",
    "ax2 = ax.twinx()\n",
    "merged_cleaned.groupby(['TALB','crime']).mean()['AU_GMP_PER_CAPITA'].unstack().plot(kind='line',ax=ax2,title='Crime Rate (right) and GMP Mean by TALB (left)', \n",
    "                                                                                    style='black',lw=.2,secondary_y=True,legend=False)\n",
    "merged_cleaned.groupby(['TALB','crime']).mean()['crime_proportion'].unstack().plot(kind='bar',ax=ax,legend='out')\n",
    "ax.legend(loc='upper right', bbox_to_anchor=(1.2, 1), fontsize=8)\n",
    "plt.tight_layout()\n",
    "plt.savefig('/Users/keri/git/DotLovesData/visuals/CleanedCrimeDataByTALBandDepIndexMean.png')"
   ]
  },
  {
   "cell_type": "code",
   "execution_count": 88,
   "metadata": {},
   "outputs": [
    {
     "data": {
      "image/png": "[encoded data removed]",
      "text/plain": [
       "<Figure size 1080x720 with 1 Axes>"
      ]
     },
     "metadata": {
      "needs_background": "light"
     },
     "output_type": "display_data"
    }
   ],
   "source": [
    "fig, ax = plt.subplots(figsize=(15,10))\n",
    "\n",
    "merged_cleaned.groupby(['TALB','crime']).mean()['crime_proportion'].unstack().plot(kind='bar',ax=ax,title='Cleaned Depr Index Crime Incidence/population by TALB')\n",
    "#ax.legend(loc='upper right', bbox_to_anchor=(1.08, 1), fontsize=8)\n",
    "plt.tight_layout()\n",
    "plt.savefig('/Users/keri/git/DotLovesData/visuals/CrimeDataFromTALBCleanedDatasetNoDIMean.png')"
   ]
  },
  {
   "cell_type": "code",
   "execution_count": 91,
   "metadata": {},
   "outputs": [
    {
     "data": {
      "image/png": "[encoded data removed]",
      "text/plain": [
       "<Figure size 1080x720 with 1 Axes>"
      ]
     },
     "metadata": {
      "needs_background": "light"
     },
     "output_type": "display_data"
    }
   ],
   "source": [
    "fig, ax = plt.subplots(figsize=(15,10))\n",
    "merged_cleaned.groupby(['Date_y','crime']).mean()['crime_proportion'].unstack().plot(kind='bar',ax=ax,title='Cleaned Crime Incidence/population by Date')\n",
    "ax.legend(loc='upper right', bbox_to_anchor=(1.2, 1), fontsize=8)\n",
    "plt.tight_layout()\n",
    "plt.savefig('/Users/keri/git/DotLovesData/visuals/CrimeDataFromCleanedDatasetByDate.png')"
   ]
  },
  {
   "cell_type": "code",
   "execution_count": null,
   "metadata": {},
   "outputs": [],
   "source": []
  }
 ],
 "metadata": {
  "kernelspec": {
   "display_name": "Python 3",
   "language": "python",
   "name": "python3"
  },
  "language_info": {
   "codemirror_mode": {
    "name": "ipython",
    "version": 3
   },
   "file_extension": ".py",
   "mimetype": "text/x-python",
   "name": "python",
   "nbconvert_exporter": "python",
   "pygments_lexer": "ipython3",
   "version": "3.6.11"
  }
 },
 "nbformat": 4,
 "nbformat_minor": 4
}
