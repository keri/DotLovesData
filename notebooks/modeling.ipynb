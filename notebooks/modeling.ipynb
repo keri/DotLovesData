{
 "cells": [
  {
   "cell_type": "code",
   "execution_count": 23,
   "metadata": {},
   "outputs": [],
   "source": [
    "import numpy as np\n",
    "import pandas as pd\n",
    "from sklearn.model_selection import train_test_split"
   ]
  },
  {
   "cell_type": "markdown",
   "metadata": {},
   "source": [
    "# Download df's\n",
    "\n",
    "-- df with the standardized and df with nonstandardized GPM"
   ]
  },
  {
   "cell_type": "code",
   "execution_count": 32,
   "metadata": {},
   "outputs": [
    {
     "data": {
      "text/html": [
       "<div>\n",
       "<style scoped>\n",
       "    .dataframe tbody tr th:only-of-type {\n",
       "        vertical-align: middle;\n",
       "    }\n",
       "\n",
       "    .dataframe tbody tr th {\n",
       "        vertical-align: top;\n",
       "    }\n",
       "\n",
       "    .dataframe thead th {\n",
       "        text-align: right;\n",
       "    }\n",
       "</style>\n",
       "<table border=\"1\" class=\"dataframe\">\n",
       "  <thead>\n",
       "    <tr style=\"text-align: right;\">\n",
       "      <th></th>\n",
       "      <th>AU2017_code</th>\n",
       "      <th>AU_GMP_PER_CAPITA</th>\n",
       "      <th>Dep_Index</th>\n",
       "      <th>n</th>\n",
       "      <th>Pop</th>\n",
       "      <th>Date_Crime</th>\n",
       "      <th>crime_cat</th>\n",
       "      <th>talb_cat</th>\n",
       "      <th>Date_GMP</th>\n",
       "    </tr>\n",
       "  </thead>\n",
       "  <tbody>\n",
       "    <tr>\n",
       "      <th>0</th>\n",
       "      <td>500100</td>\n",
       "      <td>62.732541</td>\n",
       "      <td>9.0</td>\n",
       "      <td>0</td>\n",
       "      <td>401</td>\n",
       "      <td>2018-02-01</td>\n",
       "      <td>0</td>\n",
       "      <td>21</td>\n",
       "      <td>2013-03-01</td>\n",
       "    </tr>\n",
       "    <tr>\n",
       "      <th>1</th>\n",
       "      <td>500100</td>\n",
       "      <td>62.732541</td>\n",
       "      <td>9.0</td>\n",
       "      <td>0</td>\n",
       "      <td>402</td>\n",
       "      <td>2018-03-01</td>\n",
       "      <td>0</td>\n",
       "      <td>21</td>\n",
       "      <td>2013-03-01</td>\n",
       "    </tr>\n",
       "    <tr>\n",
       "      <th>2</th>\n",
       "      <td>500100</td>\n",
       "      <td>62.732541</td>\n",
       "      <td>9.0</td>\n",
       "      <td>0</td>\n",
       "      <td>408</td>\n",
       "      <td>2018-04-01</td>\n",
       "      <td>0</td>\n",
       "      <td>21</td>\n",
       "      <td>2013-03-01</td>\n",
       "    </tr>\n",
       "    <tr>\n",
       "      <th>3</th>\n",
       "      <td>500100</td>\n",
       "      <td>62.732541</td>\n",
       "      <td>9.0</td>\n",
       "      <td>0</td>\n",
       "      <td>409</td>\n",
       "      <td>2018-05-01</td>\n",
       "      <td>0</td>\n",
       "      <td>21</td>\n",
       "      <td>2013-03-01</td>\n",
       "    </tr>\n",
       "    <tr>\n",
       "      <th>4</th>\n",
       "      <td>500100</td>\n",
       "      <td>62.732541</td>\n",
       "      <td>9.0</td>\n",
       "      <td>0</td>\n",
       "      <td>410</td>\n",
       "      <td>2018-06-01</td>\n",
       "      <td>0</td>\n",
       "      <td>21</td>\n",
       "      <td>2013-03-01</td>\n",
       "    </tr>\n",
       "  </tbody>\n",
       "</table>\n",
       "</div>"
      ],
      "text/plain": [
       "   AU2017_code  AU_GMP_PER_CAPITA  Dep_Index  n  Pop  Date_Crime  crime_cat  \\\n",
       "0       500100          62.732541        9.0  0  401  2018-02-01          0   \n",
       "1       500100          62.732541        9.0  0  402  2018-03-01          0   \n",
       "2       500100          62.732541        9.0  0  408  2018-04-01          0   \n",
       "3       500100          62.732541        9.0  0  409  2018-05-01          0   \n",
       "4       500100          62.732541        9.0  0  410  2018-06-01          0   \n",
       "\n",
       "   talb_cat    Date_GMP  \n",
       "0        21  2013-03-01  \n",
       "1        21  2013-03-01  \n",
       "2        21  2013-03-01  \n",
       "3        21  2013-03-01  \n",
       "4        21  2013-03-01  "
      ]
     },
     "execution_count": 32,
     "metadata": {},
     "output_type": "execute_result"
    }
   ],
   "source": [
    "dfNS = pd.read_csv('/Users/keri/git/DotLovesData/data/formattedDf.csv')\n",
    "dfNS.head()"
   ]
  },
  {
   "cell_type": "code",
   "execution_count": 33,
   "metadata": {},
   "outputs": [
    {
     "data": {
      "text/plain": [
       "AU2017_code            int64\n",
       "AU_GMP_PER_CAPITA    float64\n",
       "Dep_Index            float64\n",
       "n                      int64\n",
       "Pop                    int64\n",
       "Date_Crime            object\n",
       "crime_cat              int64\n",
       "talb_cat               int64\n",
       "Date_GMP              object\n",
       "dtype: object"
      ]
     },
     "execution_count": 33,
     "metadata": {},
     "output_type": "execute_result"
    }
   ],
   "source": [
    "dfNS.dtypes "
   ]
  },
  {
   "cell_type": "code",
   "execution_count": 36,
   "metadata": {},
   "outputs": [],
   "source": [
    "#convert datetime to category and then codes to run through models\n",
    "dfNS[\"dt_crime_cat\"] = dfNS[\"Date_Crime\"].astype('category')\n",
    "dfNS[\"dt_crime_cat\"] = dfNS[\"dt_crime_cat\"].cat.codes\n",
    "dfNS[\"date_gmp_cat\"] = dfNS[\"Date_GMP\"].astype('category')\n",
    "dfNS[\"date_gmp_cat\"] = dfNS[\"date_gmp_cat\"].cat.codes"
   ]
  },
  {
   "cell_type": "code",
   "execution_count": 37,
   "metadata": {},
   "outputs": [],
   "source": [
    "#there were no duplicates\n",
    "dfNS.drop_duplicates(inplace=True,ignore_index=True)"
   ]
  },
  {
   "cell_type": "code",
   "execution_count": 39,
   "metadata": {},
   "outputs": [],
   "source": [
    "dfNS.drop(columns=['Date_Crime','Date_GMP'],inplace=True)"
   ]
  },
  {
   "cell_type": "code",
   "execution_count": 40,
   "metadata": {},
   "outputs": [
    {
     "data": {
      "text/plain": [
       "(6897345, 9)"
      ]
     },
     "execution_count": 40,
     "metadata": {},
     "output_type": "execute_result"
    }
   ],
   "source": [
    "dfNS.shape"
   ]
  },
  {
   "cell_type": "code",
   "execution_count": 41,
   "metadata": {},
   "outputs": [
    {
     "data": {
      "text/plain": [
       "AU2017_code            int64\n",
       "AU_GMP_PER_CAPITA    float64\n",
       "Dep_Index            float64\n",
       "n                      int64\n",
       "Pop                    int64\n",
       "crime_cat              int64\n",
       "talb_cat               int64\n",
       "dt_crime_cat            int8\n",
       "date_gmp_cat            int8\n",
       "dtype: object"
      ]
     },
     "execution_count": 41,
     "metadata": {},
     "output_type": "execute_result"
    }
   ],
   "source": [
    "dfNS.dtypes"
   ]
  },
  {
   "cell_type": "code",
   "execution_count": 42,
   "metadata": {},
   "outputs": [
    {
     "data": {
      "text/html": [
       "<div>\n",
       "<style scoped>\n",
       "    .dataframe tbody tr th:only-of-type {\n",
       "        vertical-align: middle;\n",
       "    }\n",
       "\n",
       "    .dataframe tbody tr th {\n",
       "        vertical-align: top;\n",
       "    }\n",
       "\n",
       "    .dataframe thead th {\n",
       "        text-align: right;\n",
       "    }\n",
       "</style>\n",
       "<table border=\"1\" class=\"dataframe\">\n",
       "  <thead>\n",
       "    <tr style=\"text-align: right;\">\n",
       "      <th></th>\n",
       "      <th>AU2017_code</th>\n",
       "      <th>AU_GMP_PER_CAPITA</th>\n",
       "      <th>Dep_Index</th>\n",
       "      <th>n</th>\n",
       "      <th>Pop</th>\n",
       "      <th>crime_cat</th>\n",
       "      <th>talb_cat</th>\n",
       "      <th>dt_crime_cat</th>\n",
       "      <th>date_gmp_cat</th>\n",
       "    </tr>\n",
       "  </thead>\n",
       "  <tbody>\n",
       "    <tr>\n",
       "      <th>0</th>\n",
       "      <td>500100</td>\n",
       "      <td>62.732541</td>\n",
       "      <td>9.0</td>\n",
       "      <td>0</td>\n",
       "      <td>401</td>\n",
       "      <td>0</td>\n",
       "      <td>21</td>\n",
       "      <td>0</td>\n",
       "      <td>0</td>\n",
       "    </tr>\n",
       "    <tr>\n",
       "      <th>1</th>\n",
       "      <td>500100</td>\n",
       "      <td>62.732541</td>\n",
       "      <td>9.0</td>\n",
       "      <td>0</td>\n",
       "      <td>402</td>\n",
       "      <td>0</td>\n",
       "      <td>21</td>\n",
       "      <td>1</td>\n",
       "      <td>0</td>\n",
       "    </tr>\n",
       "    <tr>\n",
       "      <th>2</th>\n",
       "      <td>500100</td>\n",
       "      <td>62.732541</td>\n",
       "      <td>9.0</td>\n",
       "      <td>0</td>\n",
       "      <td>408</td>\n",
       "      <td>0</td>\n",
       "      <td>21</td>\n",
       "      <td>2</td>\n",
       "      <td>0</td>\n",
       "    </tr>\n",
       "    <tr>\n",
       "      <th>3</th>\n",
       "      <td>500100</td>\n",
       "      <td>62.732541</td>\n",
       "      <td>9.0</td>\n",
       "      <td>0</td>\n",
       "      <td>409</td>\n",
       "      <td>0</td>\n",
       "      <td>21</td>\n",
       "      <td>3</td>\n",
       "      <td>0</td>\n",
       "    </tr>\n",
       "    <tr>\n",
       "      <th>4</th>\n",
       "      <td>500100</td>\n",
       "      <td>62.732541</td>\n",
       "      <td>9.0</td>\n",
       "      <td>0</td>\n",
       "      <td>410</td>\n",
       "      <td>0</td>\n",
       "      <td>21</td>\n",
       "      <td>4</td>\n",
       "      <td>0</td>\n",
       "    </tr>\n",
       "  </tbody>\n",
       "</table>\n",
       "</div>"
      ],
      "text/plain": [
       "   AU2017_code  AU_GMP_PER_CAPITA  Dep_Index  n  Pop  crime_cat  talb_cat  \\\n",
       "0       500100          62.732541        9.0  0  401          0        21   \n",
       "1       500100          62.732541        9.0  0  402          0        21   \n",
       "2       500100          62.732541        9.0  0  408          0        21   \n",
       "3       500100          62.732541        9.0  0  409          0        21   \n",
       "4       500100          62.732541        9.0  0  410          0        21   \n",
       "\n",
       "   dt_crime_cat  date_gmp_cat  \n",
       "0             0             0  \n",
       "1             1             0  \n",
       "2             2             0  \n",
       "3             3             0  \n",
       "4             4             0  "
      ]
     },
     "execution_count": 42,
     "metadata": {},
     "output_type": "execute_result"
    }
   ],
   "source": [
    "dfNS.head()"
   ]
  },
  {
   "cell_type": "code",
   "execution_count": 43,
   "metadata": {},
   "outputs": [],
   "source": [
    "holdoutDf = dfNS.sample(frac=0.20)"
   ]
  },
  {
   "cell_type": "code",
   "execution_count": 44,
   "metadata": {},
   "outputs": [
    {
     "data": {
      "text/plain": [
       "(6897345, 9)"
      ]
     },
     "execution_count": 44,
     "metadata": {},
     "output_type": "execute_result"
    }
   ],
   "source": [
    "dfNS.shape #doesn't take the rows out of original df"
   ]
  },
  {
   "cell_type": "code",
   "execution_count": 45,
   "metadata": {},
   "outputs": [
    {
     "data": {
      "text/plain": [
       "Int64Index([5088197, 4851490, 3307391, 5692823, 6652441, 1872040, 6556540,\n",
       "            6287500, 3676955, 3358562,\n",
       "            ...\n",
       "             552144, 4192984, 6535711, 2319550, 1625910, 5833204, 6819461,\n",
       "            4851432, 2637909,   47937],\n",
       "           dtype='int64', length=1379469)"
      ]
     },
     "execution_count": 45,
     "metadata": {},
     "output_type": "execute_result"
    }
   ],
   "source": [
    "holdoutDf.index"
   ]
  },
  {
   "cell_type": "code",
   "execution_count": 46,
   "metadata": {},
   "outputs": [],
   "source": [
    "holdoutDf = dfNS.loc[list(holdoutDf.index)]"
   ]
  },
  {
   "cell_type": "code",
   "execution_count": 47,
   "metadata": {},
   "outputs": [
    {
     "data": {
      "text/plain": [
       "(1379469, 9)"
      ]
     },
     "execution_count": 47,
     "metadata": {},
     "output_type": "execute_result"
    }
   ],
   "source": [
    "holdoutDf.shape"
   ]
  },
  {
   "cell_type": "code",
   "execution_count": 48,
   "metadata": {},
   "outputs": [
    {
     "data": {
      "text/plain": [
       "(6897345, 9)"
      ]
     },
     "execution_count": 48,
     "metadata": {},
     "output_type": "execute_result"
    }
   ],
   "source": [
    "dfNS.shape"
   ]
  },
  {
   "cell_type": "markdown",
   "metadata": {},
   "source": [
    "# Look at value distributions for holdout v modeling df"
   ]
  },
  {
   "cell_type": "code",
   "execution_count": 49,
   "metadata": {},
   "outputs": [
    {
     "data": {
      "text/html": [
       "<div>\n",
       "<style scoped>\n",
       "    .dataframe tbody tr th:only-of-type {\n",
       "        vertical-align: middle;\n",
       "    }\n",
       "\n",
       "    .dataframe tbody tr th {\n",
       "        vertical-align: top;\n",
       "    }\n",
       "\n",
       "    .dataframe thead th {\n",
       "        text-align: right;\n",
       "    }\n",
       "</style>\n",
       "<table border=\"1\" class=\"dataframe\">\n",
       "  <thead>\n",
       "    <tr style=\"text-align: right;\">\n",
       "      <th></th>\n",
       "      <th>AU2017_code</th>\n",
       "      <th>AU_GMP_PER_CAPITA</th>\n",
       "      <th>Dep_Index</th>\n",
       "      <th>n</th>\n",
       "      <th>Pop</th>\n",
       "      <th>crime_cat</th>\n",
       "      <th>talb_cat</th>\n",
       "      <th>dt_crime_cat</th>\n",
       "      <th>date_gmp_cat</th>\n",
       "    </tr>\n",
       "  </thead>\n",
       "  <tbody>\n",
       "    <tr>\n",
       "      <th>count</th>\n",
       "      <td>6.897345e+06</td>\n",
       "      <td>6.897345e+06</td>\n",
       "      <td>6.897345e+06</td>\n",
       "      <td>6.897345e+06</td>\n",
       "      <td>6.897345e+06</td>\n",
       "      <td>6.897345e+06</td>\n",
       "      <td>6.897345e+06</td>\n",
       "      <td>6.897345e+06</td>\n",
       "      <td>6.897345e+06</td>\n",
       "    </tr>\n",
       "    <tr>\n",
       "      <th>mean</th>\n",
       "      <td>5.136536e+05</td>\n",
       "      <td>5.547114e+01</td>\n",
       "      <td>5.664226e+00</td>\n",
       "      <td>1.094892e+00</td>\n",
       "      <td>3.746800e+03</td>\n",
       "      <td>6.000000e+00</td>\n",
       "      <td>1.164622e+01</td>\n",
       "      <td>1.700000e+01</td>\n",
       "      <td>1.500000e+01</td>\n",
       "    </tr>\n",
       "    <tr>\n",
       "      <th>std</th>\n",
       "      <td>7.919772e+03</td>\n",
       "      <td>3.847505e+01</td>\n",
       "      <td>2.949952e+00</td>\n",
       "      <td>3.124968e+00</td>\n",
       "      <td>2.204207e+03</td>\n",
       "      <td>3.741658e+00</td>\n",
       "      <td>7.165271e+00</td>\n",
       "      <td>1.009951e+01</td>\n",
       "      <td>8.944273e+00</td>\n",
       "    </tr>\n",
       "    <tr>\n",
       "      <th>min</th>\n",
       "      <td>5.001000e+05</td>\n",
       "      <td>0.000000e+00</td>\n",
       "      <td>1.000000e+00</td>\n",
       "      <td>0.000000e+00</td>\n",
       "      <td>1.500000e+01</td>\n",
       "      <td>0.000000e+00</td>\n",
       "      <td>0.000000e+00</td>\n",
       "      <td>0.000000e+00</td>\n",
       "      <td>0.000000e+00</td>\n",
       "    </tr>\n",
       "    <tr>\n",
       "      <th>25%</th>\n",
       "      <td>5.066460e+05</td>\n",
       "      <td>3.201995e+01</td>\n",
       "      <td>3.000000e+00</td>\n",
       "      <td>0.000000e+00</td>\n",
       "      <td>2.158000e+03</td>\n",
       "      <td>3.000000e+00</td>\n",
       "      <td>6.000000e+00</td>\n",
       "      <td>8.000000e+00</td>\n",
       "      <td>7.000000e+00</td>\n",
       "    </tr>\n",
       "    <tr>\n",
       "      <th>50%</th>\n",
       "      <td>5.136100e+05</td>\n",
       "      <td>5.250710e+01</td>\n",
       "      <td>5.000000e+00</td>\n",
       "      <td>0.000000e+00</td>\n",
       "      <td>3.575000e+03</td>\n",
       "      <td>6.000000e+00</td>\n",
       "      <td>1.100000e+01</td>\n",
       "      <td>1.700000e+01</td>\n",
       "      <td>1.500000e+01</td>\n",
       "    </tr>\n",
       "    <tr>\n",
       "      <th>75%</th>\n",
       "      <td>5.212010e+05</td>\n",
       "      <td>7.299246e+01</td>\n",
       "      <td>8.000000e+00</td>\n",
       "      <td>1.000000e+00</td>\n",
       "      <td>5.083000e+03</td>\n",
       "      <td>9.000000e+00</td>\n",
       "      <td>1.800000e+01</td>\n",
       "      <td>2.600000e+01</td>\n",
       "      <td>2.300000e+01</td>\n",
       "    </tr>\n",
       "    <tr>\n",
       "      <th>max</th>\n",
       "      <td>5.261050e+05</td>\n",
       "      <td>3.912583e+02</td>\n",
       "      <td>1.000000e+01</td>\n",
       "      <td>1.130000e+02</td>\n",
       "      <td>1.544700e+04</td>\n",
       "      <td>1.200000e+01</td>\n",
       "      <td>2.300000e+01</td>\n",
       "      <td>3.400000e+01</td>\n",
       "      <td>3.000000e+01</td>\n",
       "    </tr>\n",
       "  </tbody>\n",
       "</table>\n",
       "</div>"
      ],
      "text/plain": [
       "        AU2017_code  AU_GMP_PER_CAPITA     Dep_Index             n  \\\n",
       "count  6.897345e+06       6.897345e+06  6.897345e+06  6.897345e+06   \n",
       "mean   5.136536e+05       5.547114e+01  5.664226e+00  1.094892e+00   \n",
       "std    7.919772e+03       3.847505e+01  2.949952e+00  3.124968e+00   \n",
       "min    5.001000e+05       0.000000e+00  1.000000e+00  0.000000e+00   \n",
       "25%    5.066460e+05       3.201995e+01  3.000000e+00  0.000000e+00   \n",
       "50%    5.136100e+05       5.250710e+01  5.000000e+00  0.000000e+00   \n",
       "75%    5.212010e+05       7.299246e+01  8.000000e+00  1.000000e+00   \n",
       "max    5.261050e+05       3.912583e+02  1.000000e+01  1.130000e+02   \n",
       "\n",
       "                Pop     crime_cat      talb_cat  dt_crime_cat  date_gmp_cat  \n",
       "count  6.897345e+06  6.897345e+06  6.897345e+06  6.897345e+06  6.897345e+06  \n",
       "mean   3.746800e+03  6.000000e+00  1.164622e+01  1.700000e+01  1.500000e+01  \n",
       "std    2.204207e+03  3.741658e+00  7.165271e+00  1.009951e+01  8.944273e+00  \n",
       "min    1.500000e+01  0.000000e+00  0.000000e+00  0.000000e+00  0.000000e+00  \n",
       "25%    2.158000e+03  3.000000e+00  6.000000e+00  8.000000e+00  7.000000e+00  \n",
       "50%    3.575000e+03  6.000000e+00  1.100000e+01  1.700000e+01  1.500000e+01  \n",
       "75%    5.083000e+03  9.000000e+00  1.800000e+01  2.600000e+01  2.300000e+01  \n",
       "max    1.544700e+04  1.200000e+01  2.300000e+01  3.400000e+01  3.000000e+01  "
      ]
     },
     "execution_count": 49,
     "metadata": {},
     "output_type": "execute_result"
    }
   ],
   "source": [
    "dfNS.describe()"
   ]
  },
  {
   "cell_type": "code",
   "execution_count": 50,
   "metadata": {},
   "outputs": [
    {
     "data": {
      "text/html": [
       "<div>\n",
       "<style scoped>\n",
       "    .dataframe tbody tr th:only-of-type {\n",
       "        vertical-align: middle;\n",
       "    }\n",
       "\n",
       "    .dataframe tbody tr th {\n",
       "        vertical-align: top;\n",
       "    }\n",
       "\n",
       "    .dataframe thead th {\n",
       "        text-align: right;\n",
       "    }\n",
       "</style>\n",
       "<table border=\"1\" class=\"dataframe\">\n",
       "  <thead>\n",
       "    <tr style=\"text-align: right;\">\n",
       "      <th></th>\n",
       "      <th>AU2017_code</th>\n",
       "      <th>AU_GMP_PER_CAPITA</th>\n",
       "      <th>Dep_Index</th>\n",
       "      <th>n</th>\n",
       "      <th>Pop</th>\n",
       "      <th>crime_cat</th>\n",
       "      <th>talb_cat</th>\n",
       "      <th>dt_crime_cat</th>\n",
       "      <th>date_gmp_cat</th>\n",
       "    </tr>\n",
       "  </thead>\n",
       "  <tbody>\n",
       "    <tr>\n",
       "      <th>count</th>\n",
       "      <td>1.379469e+06</td>\n",
       "      <td>1.379469e+06</td>\n",
       "      <td>1.379469e+06</td>\n",
       "      <td>1.379469e+06</td>\n",
       "      <td>1.379469e+06</td>\n",
       "      <td>1.379469e+06</td>\n",
       "      <td>1.379469e+06</td>\n",
       "      <td>1.379469e+06</td>\n",
       "      <td>1.379469e+06</td>\n",
       "    </tr>\n",
       "    <tr>\n",
       "      <th>mean</th>\n",
       "      <td>5.136639e+05</td>\n",
       "      <td>5.547894e+01</td>\n",
       "      <td>5.665796e+00</td>\n",
       "      <td>1.094979e+00</td>\n",
       "      <td>3.750528e+03</td>\n",
       "      <td>6.002108e+00</td>\n",
       "      <td>1.164110e+01</td>\n",
       "      <td>1.699881e+01</td>\n",
       "      <td>1.499373e+01</td>\n",
       "    </tr>\n",
       "    <tr>\n",
       "      <th>std</th>\n",
       "      <td>7.916591e+03</td>\n",
       "      <td>3.846452e+01</td>\n",
       "      <td>2.950681e+00</td>\n",
       "      <td>3.130066e+00</td>\n",
       "      <td>2.201808e+03</td>\n",
       "      <td>3.741431e+00</td>\n",
       "      <td>7.165941e+00</td>\n",
       "      <td>1.009725e+01</td>\n",
       "      <td>8.942177e+00</td>\n",
       "    </tr>\n",
       "    <tr>\n",
       "      <th>min</th>\n",
       "      <td>5.001000e+05</td>\n",
       "      <td>0.000000e+00</td>\n",
       "      <td>1.000000e+00</td>\n",
       "      <td>0.000000e+00</td>\n",
       "      <td>1.500000e+01</td>\n",
       "      <td>0.000000e+00</td>\n",
       "      <td>0.000000e+00</td>\n",
       "      <td>0.000000e+00</td>\n",
       "      <td>0.000000e+00</td>\n",
       "    </tr>\n",
       "    <tr>\n",
       "      <th>25%</th>\n",
       "      <td>5.066460e+05</td>\n",
       "      <td>3.201864e+01</td>\n",
       "      <td>3.000000e+00</td>\n",
       "      <td>0.000000e+00</td>\n",
       "      <td>2.167000e+03</td>\n",
       "      <td>3.000000e+00</td>\n",
       "      <td>6.000000e+00</td>\n",
       "      <td>8.000000e+00</td>\n",
       "      <td>7.000000e+00</td>\n",
       "    </tr>\n",
       "    <tr>\n",
       "      <th>50%</th>\n",
       "      <td>5.136100e+05</td>\n",
       "      <td>5.252768e+01</td>\n",
       "      <td>5.000000e+00</td>\n",
       "      <td>0.000000e+00</td>\n",
       "      <td>3.578000e+03</td>\n",
       "      <td>6.000000e+00</td>\n",
       "      <td>1.100000e+01</td>\n",
       "      <td>1.700000e+01</td>\n",
       "      <td>1.500000e+01</td>\n",
       "    </tr>\n",
       "    <tr>\n",
       "      <th>75%</th>\n",
       "      <td>5.212010e+05</td>\n",
       "      <td>7.300192e+01</td>\n",
       "      <td>8.000000e+00</td>\n",
       "      <td>1.000000e+00</td>\n",
       "      <td>5.084000e+03</td>\n",
       "      <td>9.000000e+00</td>\n",
       "      <td>1.800000e+01</td>\n",
       "      <td>2.600000e+01</td>\n",
       "      <td>2.300000e+01</td>\n",
       "    </tr>\n",
       "    <tr>\n",
       "      <th>max</th>\n",
       "      <td>5.261050e+05</td>\n",
       "      <td>3.912583e+02</td>\n",
       "      <td>1.000000e+01</td>\n",
       "      <td>1.130000e+02</td>\n",
       "      <td>1.544700e+04</td>\n",
       "      <td>1.200000e+01</td>\n",
       "      <td>2.300000e+01</td>\n",
       "      <td>3.400000e+01</td>\n",
       "      <td>3.000000e+01</td>\n",
       "    </tr>\n",
       "  </tbody>\n",
       "</table>\n",
       "</div>"
      ],
      "text/plain": [
       "        AU2017_code  AU_GMP_PER_CAPITA     Dep_Index             n  \\\n",
       "count  1.379469e+06       1.379469e+06  1.379469e+06  1.379469e+06   \n",
       "mean   5.136639e+05       5.547894e+01  5.665796e+00  1.094979e+00   \n",
       "std    7.916591e+03       3.846452e+01  2.950681e+00  3.130066e+00   \n",
       "min    5.001000e+05       0.000000e+00  1.000000e+00  0.000000e+00   \n",
       "25%    5.066460e+05       3.201864e+01  3.000000e+00  0.000000e+00   \n",
       "50%    5.136100e+05       5.252768e+01  5.000000e+00  0.000000e+00   \n",
       "75%    5.212010e+05       7.300192e+01  8.000000e+00  1.000000e+00   \n",
       "max    5.261050e+05       3.912583e+02  1.000000e+01  1.130000e+02   \n",
       "\n",
       "                Pop     crime_cat      talb_cat  dt_crime_cat  date_gmp_cat  \n",
       "count  1.379469e+06  1.379469e+06  1.379469e+06  1.379469e+06  1.379469e+06  \n",
       "mean   3.750528e+03  6.002108e+00  1.164110e+01  1.699881e+01  1.499373e+01  \n",
       "std    2.201808e+03  3.741431e+00  7.165941e+00  1.009725e+01  8.942177e+00  \n",
       "min    1.500000e+01  0.000000e+00  0.000000e+00  0.000000e+00  0.000000e+00  \n",
       "25%    2.167000e+03  3.000000e+00  6.000000e+00  8.000000e+00  7.000000e+00  \n",
       "50%    3.578000e+03  6.000000e+00  1.100000e+01  1.700000e+01  1.500000e+01  \n",
       "75%    5.084000e+03  9.000000e+00  1.800000e+01  2.600000e+01  2.300000e+01  \n",
       "max    1.544700e+04  1.200000e+01  2.300000e+01  3.400000e+01  3.000000e+01  "
      ]
     },
     "execution_count": 50,
     "metadata": {},
     "output_type": "execute_result"
    }
   ],
   "source": [
    "holdoutDf.describe()"
   ]
  },
  {
   "cell_type": "code",
   "execution_count": null,
   "metadata": {},
   "outputs": [],
   "source": [
    "#distributions between validation and modeling dataset look almost exactly the same"
   ]
  },
  {
   "cell_type": "markdown",
   "metadata": {},
   "source": [
    "# Asking question:  Can we predict the GMP with features for deprivation score and crime statistics\n",
    "\n",
    "-- Run GradientboostedRegressor, and LogisticRegression"
   ]
  },
  {
   "cell_type": "code",
   "execution_count": 26,
   "metadata": {},
   "outputs": [],
   "source": [
    "from sklearn.ensemble import GradientBoostingRegressor"
   ]
  },
  {
   "cell_type": "code",
   "execution_count": 27,
   "metadata": {},
   "outputs": [],
   "source": [
    "def split_data_train_model(X,Y):\n",
    "    # 20% examples in test data\n",
    "    X_train, X_test, y_train, y_test = train_test_split(X,Y,test_size=0.2, random_state=57)\n",
    " \n",
    "    # training data fit\n",
    "    reg = GradientBoostingRegressor(random_state=0)\n",
    "    reg.fit(X_train, y_train)\n",
    "\n",
    "    y_hat = reg.predict(X_test)\n",
    "\n",
    "    score = reg.score(X_test, y_test)\n",
    " \n",
    "    return(y_hat, score, reg, X_test,y_test)\n"
   ]
  },
  {
   "cell_type": "code",
   "execution_count": null,
   "metadata": {},
   "outputs": [],
   "source": [
    "X = dfNS.drop(columns=['AU_GMP_PER_CAPITA'])\n",
    "y = dfNS['AU_GMP_PER_CAPITA']"
   ]
  },
  {
   "cell_type": "code",
   "execution_count": 54,
   "metadata": {},
   "outputs": [],
   "source": [
    "X_holdout = holdoutDf.drop(columns=['AU_GMP_PER_CAPITA'])\n",
    "y_holdout = holdoutDf['AU_GMP_PER_CAPITA']"
   ]
  },
  {
   "cell_type": "code",
   "execution_count": 52,
   "metadata": {},
   "outputs": [],
   "source": [
    "y_hat, score, reg, X_test,y_test = split_data_train_model(X,y)"
   ]
  },
  {
   "cell_type": "code",
   "execution_count": 53,
   "metadata": {},
   "outputs": [
    {
     "name": "stdout",
     "output_type": "stream",
     "text": [
      "0.7553673558661818\n"
     ]
    }
   ],
   "source": [
    "print(score)"
   ]
  },
  {
   "cell_type": "code",
   "execution_count": 56,
   "metadata": {},
   "outputs": [
    {
     "data": {
      "text/plain": [
       "0.7556835880670938"
      ]
     },
     "execution_count": 56,
     "metadata": {},
     "output_type": "execute_result"
    }
   ],
   "source": [
    "validation_predict = reg.predict(X_holdout)\n",
    "reg_holdout_score = reg.score(X_holdout,y_holdout)\n",
    "reg_holdout_score"
   ]
  },
  {
   "cell_type": "code",
   "execution_count": 57,
   "metadata": {},
   "outputs": [
    {
     "data": {
      "text/plain": [
       "array([5.86627651e-01, 2.29360257e-01, 1.77853639e-03, 1.21426001e-01,\n",
       "       0.00000000e+00, 3.04488784e-02, 6.96521414e-05, 3.02890246e-02])"
      ]
     },
     "execution_count": 57,
     "metadata": {},
     "output_type": "execute_result"
    }
   ],
   "source": [
    "reg.feature_importances_"
   ]
  },
  {
   "cell_type": "code",
   "execution_count": 58,
   "metadata": {},
   "outputs": [
    {
     "data": {
      "text/html": [
       "<div>\n",
       "<style scoped>\n",
       "    .dataframe tbody tr th:only-of-type {\n",
       "        vertical-align: middle;\n",
       "    }\n",
       "\n",
       "    .dataframe tbody tr th {\n",
       "        vertical-align: top;\n",
       "    }\n",
       "\n",
       "    .dataframe thead th {\n",
       "        text-align: right;\n",
       "    }\n",
       "</style>\n",
       "<table border=\"1\" class=\"dataframe\">\n",
       "  <thead>\n",
       "    <tr style=\"text-align: right;\">\n",
       "      <th></th>\n",
       "      <th>features</th>\n",
       "      <th>importance</th>\n",
       "    </tr>\n",
       "  </thead>\n",
       "  <tbody>\n",
       "    <tr>\n",
       "      <th>0</th>\n",
       "      <td>AU2017_code</td>\n",
       "      <td>0.586628</td>\n",
       "    </tr>\n",
       "    <tr>\n",
       "      <th>1</th>\n",
       "      <td>Dep_Index</td>\n",
       "      <td>0.229360</td>\n",
       "    </tr>\n",
       "    <tr>\n",
       "      <th>2</th>\n",
       "      <td>n</td>\n",
       "      <td>0.001779</td>\n",
       "    </tr>\n",
       "    <tr>\n",
       "      <th>3</th>\n",
       "      <td>Pop</td>\n",
       "      <td>0.121426</td>\n",
       "    </tr>\n",
       "    <tr>\n",
       "      <th>4</th>\n",
       "      <td>crime_cat</td>\n",
       "      <td>0.000000</td>\n",
       "    </tr>\n",
       "    <tr>\n",
       "      <th>5</th>\n",
       "      <td>talb_cat</td>\n",
       "      <td>0.030449</td>\n",
       "    </tr>\n",
       "    <tr>\n",
       "      <th>6</th>\n",
       "      <td>dt_crime_cat</td>\n",
       "      <td>0.000070</td>\n",
       "    </tr>\n",
       "    <tr>\n",
       "      <th>7</th>\n",
       "      <td>date_gmp_cat</td>\n",
       "      <td>0.030289</td>\n",
       "    </tr>\n",
       "  </tbody>\n",
       "</table>\n",
       "</div>"
      ],
      "text/plain": [
       "       features  importance\n",
       "0   AU2017_code    0.586628\n",
       "1     Dep_Index    0.229360\n",
       "2             n    0.001779\n",
       "3           Pop    0.121426\n",
       "4     crime_cat    0.000000\n",
       "5      talb_cat    0.030449\n",
       "6  dt_crime_cat    0.000070\n",
       "7  date_gmp_cat    0.030289"
      ]
     },
     "execution_count": 58,
     "metadata": {},
     "output_type": "execute_result"
    }
   ],
   "source": [
    "reg_feature_importances = pd.DataFrame()\n",
    "reg_feature_importances['features'] = X_holdout.columns\n",
    "reg_feature_importances['importance'] = reg.feature_importances_\n",
    "reg_feature_importances"
   ]
  },
  {
   "cell_type": "code",
   "execution_count": 61,
   "metadata": {},
   "outputs": [],
   "source": [
    "reg_feature_importances.sort_values(by='importance',ascending=True,inplace=True)"
   ]
  },
  {
   "cell_type": "code",
   "execution_count": 73,
   "metadata": {},
   "outputs": [],
   "source": [
    "import matplotlib.pyplot as plt"
   ]
  },
  {
   "cell_type": "code",
   "execution_count": 75,
   "metadata": {},
   "outputs": [
    {
     "data": {
      "image/png": "[encoded data removed]",
      "text/plain": [
       "<Figure size 504x504 with 1 Axes>"
      ]
     },
     "metadata": {
      "needs_background": "light"
     },
     "output_type": "display_data"
    }
   ],
   "source": [
    "reg_feature_importances.plot(kind='barh',y='importance', x='features',figsize=(7,7))\n",
    "plt.legend(loc='lower right')\n",
    "plt.savefig('/Users/keri/git/DotLovesData/visuals/featureImportances.png')"
   ]
  },
  {
   "cell_type": "code",
   "execution_count": 59,
   "metadata": {},
   "outputs": [],
   "source": [
    "from sklearn.linear_model import RidgeCV\n",
    "X_train, X_test, y_train, y_test = train_test_split(X,y,test_size=0.2, random_state=57)\n",
    "clf = RidgeCV(alphas=[1e-3, 1e-2, 1e-1, 1]).fit(X_train, y_train)\n",
    "score_clf = clf.score(X_test, y_test)\n",
    "y_hat_clf = clf.predict(X_test)\n"
   ]
  },
  {
   "cell_type": "code",
   "execution_count": 60,
   "metadata": {},
   "outputs": [
    {
     "name": "stdout",
     "output_type": "stream",
     "text": [
      "0.19608128702668726\n"
     ]
    }
   ],
   "source": [
    "print(score_clf)"
   ]
  },
  {
   "cell_type": "code",
   "execution_count": null,
   "metadata": {},
   "outputs": [],
   "source": []
  }
 ],
 "metadata": {
  "kernelspec": {
   "display_name": "Python 3",
   "language": "python",
   "name": "python3"
  },
  "language_info": {
   "codemirror_mode": {
    "name": "ipython",
    "version": 3
   },
   "file_extension": ".py",
   "mimetype": "text/x-python",
   "name": "python",
   "nbconvert_exporter": "python",
   "pygments_lexer": "ipython3",
   "version": "3.6.11"
  }
 },
 "nbformat": 4,
 "nbformat_minor": 4
}
