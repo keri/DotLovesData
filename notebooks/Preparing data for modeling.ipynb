{
 "cells": [
  {
   "cell_type": "code",
   "execution_count": 40,
   "metadata": {},
   "outputs": [],
   "source": [
    "import pandas as pd\n",
    "import matplotlib\n",
    "import matplotlib.pyplot as plt\n",
    "import seaborn as sns\n",
    "import statsmodels.api as sm\n",
    "from sklearn.preprocessing import StandardScaler\n",
    "import numpy as np\n",
    "\n",
    "%matplotlib inline"
   ]
  },
  {
   "cell_type": "code",
   "execution_count": 2,
   "metadata": {},
   "outputs": [
    {
     "data": {
      "text/html": [
       "<div>\n",
       "<style scoped>\n",
       "    .dataframe tbody tr th:only-of-type {\n",
       "        vertical-align: middle;\n",
       "    }\n",
       "\n",
       "    .dataframe tbody tr th {\n",
       "        vertical-align: top;\n",
       "    }\n",
       "\n",
       "    .dataframe thead th {\n",
       "        text-align: right;\n",
       "    }\n",
       "</style>\n",
       "<table border=\"1\" class=\"dataframe\">\n",
       "  <thead>\n",
       "    <tr style=\"text-align: right;\">\n",
       "      <th></th>\n",
       "      <th>AU2017_code</th>\n",
       "      <th>Date_x</th>\n",
       "      <th>AU_GMP_PER_CAPITA</th>\n",
       "      <th>Dep_Index</th>\n",
       "      <th>AU2017_name</th>\n",
       "      <th>TA2018_name</th>\n",
       "      <th>TALB</th>\n",
       "      <th>Date_y</th>\n",
       "      <th>crime</th>\n",
       "      <th>n</th>\n",
       "      <th>Pop</th>\n",
       "    </tr>\n",
       "  </thead>\n",
       "  <tbody>\n",
       "    <tr>\n",
       "      <th>0</th>\n",
       "      <td>500100</td>\n",
       "      <td>2013-03-01</td>\n",
       "      <td>62.732541</td>\n",
       "      <td>9.0</td>\n",
       "      <td>Awanui</td>\n",
       "      <td>Far North District</td>\n",
       "      <td>Far North District</td>\n",
       "      <td>2018-02-01</td>\n",
       "      <td>Abduction</td>\n",
       "      <td>0</td>\n",
       "      <td>401</td>\n",
       "    </tr>\n",
       "    <tr>\n",
       "      <th>1</th>\n",
       "      <td>500100</td>\n",
       "      <td>2013-03-01</td>\n",
       "      <td>62.732541</td>\n",
       "      <td>9.0</td>\n",
       "      <td>Awanui</td>\n",
       "      <td>Far North District</td>\n",
       "      <td>Far North District</td>\n",
       "      <td>2018-03-01</td>\n",
       "      <td>Abduction</td>\n",
       "      <td>0</td>\n",
       "      <td>402</td>\n",
       "    </tr>\n",
       "    <tr>\n",
       "      <th>2</th>\n",
       "      <td>500100</td>\n",
       "      <td>2013-03-01</td>\n",
       "      <td>62.732541</td>\n",
       "      <td>9.0</td>\n",
       "      <td>Awanui</td>\n",
       "      <td>Far North District</td>\n",
       "      <td>Far North District</td>\n",
       "      <td>2018-04-01</td>\n",
       "      <td>Abduction</td>\n",
       "      <td>0</td>\n",
       "      <td>408</td>\n",
       "    </tr>\n",
       "    <tr>\n",
       "      <th>3</th>\n",
       "      <td>500100</td>\n",
       "      <td>2013-03-01</td>\n",
       "      <td>62.732541</td>\n",
       "      <td>9.0</td>\n",
       "      <td>Awanui</td>\n",
       "      <td>Far North District</td>\n",
       "      <td>Far North District</td>\n",
       "      <td>2018-05-01</td>\n",
       "      <td>Abduction</td>\n",
       "      <td>0</td>\n",
       "      <td>409</td>\n",
       "    </tr>\n",
       "    <tr>\n",
       "      <th>4</th>\n",
       "      <td>500100</td>\n",
       "      <td>2013-03-01</td>\n",
       "      <td>62.732541</td>\n",
       "      <td>9.0</td>\n",
       "      <td>Awanui</td>\n",
       "      <td>Far North District</td>\n",
       "      <td>Far North District</td>\n",
       "      <td>2018-06-01</td>\n",
       "      <td>Abduction</td>\n",
       "      <td>0</td>\n",
       "      <td>410</td>\n",
       "    </tr>\n",
       "  </tbody>\n",
       "</table>\n",
       "</div>"
      ],
      "text/plain": [
       "   AU2017_code      Date_x  AU_GMP_PER_CAPITA  Dep_Index AU2017_name  \\\n",
       "0       500100  2013-03-01          62.732541        9.0      Awanui   \n",
       "1       500100  2013-03-01          62.732541        9.0      Awanui   \n",
       "2       500100  2013-03-01          62.732541        9.0      Awanui   \n",
       "3       500100  2013-03-01          62.732541        9.0      Awanui   \n",
       "4       500100  2013-03-01          62.732541        9.0      Awanui   \n",
       "\n",
       "          TA2018_name                TALB      Date_y      crime  n  Pop  \n",
       "0  Far North District  Far North District  2018-02-01  Abduction  0  401  \n",
       "1  Far North District  Far North District  2018-03-01  Abduction  0  402  \n",
       "2  Far North District  Far North District  2018-04-01  Abduction  0  408  \n",
       "3  Far North District  Far North District  2018-05-01  Abduction  0  409  \n",
       "4  Far North District  Far North District  2018-06-01  Abduction  0  410  "
      ]
     },
     "execution_count": 2,
     "metadata": {},
     "output_type": "execute_result"
    }
   ],
   "source": [
    "df = pd.read_csv('/Users/keri/git/DotLovesData/data/mergedNoNan.csv')\n",
    "df.head()"
   ]
  },
  {
   "cell_type": "code",
   "execution_count": 29,
   "metadata": {},
   "outputs": [],
   "source": [
    "time = pd.read_csv('/Users/keri/git/DotLovesData/data/mergedNoNan.csv',usecols=['Date_x'])"
   ]
  },
  {
   "cell_type": "code",
   "execution_count": 30,
   "metadata": {},
   "outputs": [
    {
     "data": {
      "text/html": [
       "<div>\n",
       "<style scoped>\n",
       "    .dataframe tbody tr th:only-of-type {\n",
       "        vertical-align: middle;\n",
       "    }\n",
       "\n",
       "    .dataframe tbody tr th {\n",
       "        vertical-align: top;\n",
       "    }\n",
       "\n",
       "    .dataframe thead th {\n",
       "        text-align: right;\n",
       "    }\n",
       "</style>\n",
       "<table border=\"1\" class=\"dataframe\">\n",
       "  <thead>\n",
       "    <tr style=\"text-align: right;\">\n",
       "      <th></th>\n",
       "      <th>Date_x</th>\n",
       "    </tr>\n",
       "  </thead>\n",
       "  <tbody>\n",
       "    <tr>\n",
       "      <th>0</th>\n",
       "      <td>2013-03-01</td>\n",
       "    </tr>\n",
       "    <tr>\n",
       "      <th>1</th>\n",
       "      <td>2013-03-01</td>\n",
       "    </tr>\n",
       "    <tr>\n",
       "      <th>2</th>\n",
       "      <td>2013-03-01</td>\n",
       "    </tr>\n",
       "    <tr>\n",
       "      <th>3</th>\n",
       "      <td>2013-03-01</td>\n",
       "    </tr>\n",
       "    <tr>\n",
       "      <th>4</th>\n",
       "      <td>2013-03-01</td>\n",
       "    </tr>\n",
       "  </tbody>\n",
       "</table>\n",
       "</div>"
      ],
      "text/plain": [
       "       Date_x\n",
       "0  2013-03-01\n",
       "1  2013-03-01\n",
       "2  2013-03-01\n",
       "3  2013-03-01\n",
       "4  2013-03-01"
      ]
     },
     "execution_count": 30,
     "metadata": {},
     "output_type": "execute_result"
    }
   ],
   "source": [
    "time.head()"
   ]
  },
  {
   "cell_type": "code",
   "execution_count": 3,
   "metadata": {},
   "outputs": [
    {
     "data": {
      "text/plain": [
       "489"
      ]
     },
     "execution_count": 3,
     "metadata": {},
     "output_type": "execute_result"
    }
   ],
   "source": [
    "len(df['AU2017_code'].unique())"
   ]
  },
  {
   "cell_type": "code",
   "execution_count": 4,
   "metadata": {},
   "outputs": [
    {
     "data": {
      "text/plain": [
       "489"
      ]
     },
     "execution_count": 4,
     "metadata": {},
     "output_type": "execute_result"
    }
   ],
   "source": [
    "len(df['AU2017_name'].unique())"
   ]
  },
  {
   "cell_type": "code",
   "execution_count": 8,
   "metadata": {},
   "outputs": [],
   "source": [
    "#delete AU2017_name as it is redundant with AU2017_code\n",
    "#delete TA2018_name as it is embedded in the TALB feature\n",
    "df.drop(columns=['AU2017_name'],inplace=True)\n",
    "df.drop(columns=['TA2018_name'],inplace=True)"
   ]
  },
  {
   "cell_type": "code",
   "execution_count": 13,
   "metadata": {},
   "outputs": [
    {
     "data": {
      "text/plain": [
       "AU2017_code            int64\n",
       "Date_x                object\n",
       "AU_GMP_PER_CAPITA    float64\n",
       "Dep_Index            float64\n",
       "TALB                  object\n",
       "Date_y                object\n",
       "crime                 object\n",
       "n                      int64\n",
       "Pop                    int64\n",
       "dtype: object"
      ]
     },
     "execution_count": 13,
     "metadata": {},
     "output_type": "execute_result"
    }
   ],
   "source": [
    "df.dtypes"
   ]
  },
  {
   "cell_type": "code",
   "execution_count": 31,
   "metadata": {},
   "outputs": [],
   "source": [
    "#convert to datetime and change column name so is more informative\n",
    "#df['Date_GMP'] = pd.to_datetime(time['Date_x']) #was deleted somewhere down the line so replacing it\n",
    "df['Date_Crime'] = pd.to_datetime(df['Date_y'])\n",
    "df['Date_GMP'] = pd.to_datetime(df['Date_x'])"
   ]
  },
  {
   "cell_type": "code",
   "execution_count": 20,
   "metadata": {},
   "outputs": [],
   "source": [
    "#drop old date columns\n",
    "df.drop(columns=['Date_x','Date_y'],inplace=True)"
   ]
  },
  {
   "cell_type": "code",
   "execution_count": 24,
   "metadata": {},
   "outputs": [],
   "source": [
    "df[\"crime\"] = df[\"crime\"].astype('category')\n",
    "df[\"crime_cat\"] = df[\"crime\"].cat.codes\n",
    "df[\"TALB\"] = df[\"TALB\"].astype('category')\n",
    "df[\"talb_cat\"] = df[\"TALB\"].cat.codes"
   ]
  },
  {
   "cell_type": "code",
   "execution_count": 32,
   "metadata": {},
   "outputs": [
    {
     "data": {
      "text/html": [
       "<div>\n",
       "<style scoped>\n",
       "    .dataframe tbody tr th:only-of-type {\n",
       "        vertical-align: middle;\n",
       "    }\n",
       "\n",
       "    .dataframe tbody tr th {\n",
       "        vertical-align: top;\n",
       "    }\n",
       "\n",
       "    .dataframe thead th {\n",
       "        text-align: right;\n",
       "    }\n",
       "</style>\n",
       "<table border=\"1\" class=\"dataframe\">\n",
       "  <thead>\n",
       "    <tr style=\"text-align: right;\">\n",
       "      <th></th>\n",
       "      <th>AU2017_code</th>\n",
       "      <th>AU_GMP_PER_CAPITA</th>\n",
       "      <th>Dep_Index</th>\n",
       "      <th>TALB</th>\n",
       "      <th>crime</th>\n",
       "      <th>n</th>\n",
       "      <th>Pop</th>\n",
       "      <th>Date_Crime</th>\n",
       "      <th>crime_cat</th>\n",
       "      <th>talb_cat</th>\n",
       "      <th>Date_GMP</th>\n",
       "    </tr>\n",
       "  </thead>\n",
       "  <tbody>\n",
       "    <tr>\n",
       "      <th>0</th>\n",
       "      <td>500100</td>\n",
       "      <td>62.732541</td>\n",
       "      <td>9.0</td>\n",
       "      <td>Far North District</td>\n",
       "      <td>Abduction</td>\n",
       "      <td>0</td>\n",
       "      <td>401</td>\n",
       "      <td>2018-02-01</td>\n",
       "      <td>0</td>\n",
       "      <td>21</td>\n",
       "      <td>2013-03-01</td>\n",
       "    </tr>\n",
       "    <tr>\n",
       "      <th>1</th>\n",
       "      <td>500100</td>\n",
       "      <td>62.732541</td>\n",
       "      <td>9.0</td>\n",
       "      <td>Far North District</td>\n",
       "      <td>Abduction</td>\n",
       "      <td>0</td>\n",
       "      <td>402</td>\n",
       "      <td>2018-03-01</td>\n",
       "      <td>0</td>\n",
       "      <td>21</td>\n",
       "      <td>2013-03-01</td>\n",
       "    </tr>\n",
       "    <tr>\n",
       "      <th>2</th>\n",
       "      <td>500100</td>\n",
       "      <td>62.732541</td>\n",
       "      <td>9.0</td>\n",
       "      <td>Far North District</td>\n",
       "      <td>Abduction</td>\n",
       "      <td>0</td>\n",
       "      <td>408</td>\n",
       "      <td>2018-04-01</td>\n",
       "      <td>0</td>\n",
       "      <td>21</td>\n",
       "      <td>2013-03-01</td>\n",
       "    </tr>\n",
       "    <tr>\n",
       "      <th>3</th>\n",
       "      <td>500100</td>\n",
       "      <td>62.732541</td>\n",
       "      <td>9.0</td>\n",
       "      <td>Far North District</td>\n",
       "      <td>Abduction</td>\n",
       "      <td>0</td>\n",
       "      <td>409</td>\n",
       "      <td>2018-05-01</td>\n",
       "      <td>0</td>\n",
       "      <td>21</td>\n",
       "      <td>2013-03-01</td>\n",
       "    </tr>\n",
       "    <tr>\n",
       "      <th>4</th>\n",
       "      <td>500100</td>\n",
       "      <td>62.732541</td>\n",
       "      <td>9.0</td>\n",
       "      <td>Far North District</td>\n",
       "      <td>Abduction</td>\n",
       "      <td>0</td>\n",
       "      <td>410</td>\n",
       "      <td>2018-06-01</td>\n",
       "      <td>0</td>\n",
       "      <td>21</td>\n",
       "      <td>2013-03-01</td>\n",
       "    </tr>\n",
       "  </tbody>\n",
       "</table>\n",
       "</div>"
      ],
      "text/plain": [
       "   AU2017_code  AU_GMP_PER_CAPITA  Dep_Index                TALB      crime  \\\n",
       "0       500100          62.732541        9.0  Far North District  Abduction   \n",
       "1       500100          62.732541        9.0  Far North District  Abduction   \n",
       "2       500100          62.732541        9.0  Far North District  Abduction   \n",
       "3       500100          62.732541        9.0  Far North District  Abduction   \n",
       "4       500100          62.732541        9.0  Far North District  Abduction   \n",
       "\n",
       "   n  Pop Date_Crime  crime_cat  talb_cat   Date_GMP  \n",
       "0  0  401 2018-02-01          0        21 2013-03-01  \n",
       "1  0  402 2018-03-01          0        21 2013-03-01  \n",
       "2  0  408 2018-04-01          0        21 2013-03-01  \n",
       "3  0  409 2018-05-01          0        21 2013-03-01  \n",
       "4  0  410 2018-06-01          0        21 2013-03-01  "
      ]
     },
     "execution_count": 32,
     "metadata": {},
     "output_type": "execute_result"
    }
   ],
   "source": [
    "df.head()"
   ]
  },
  {
   "cell_type": "code",
   "execution_count": 33,
   "metadata": {},
   "outputs": [
    {
     "data": {
      "text/plain": [
       "AU2017_code                   int64\n",
       "AU_GMP_PER_CAPITA           float64\n",
       "Dep_Index                   float64\n",
       "TALB                       category\n",
       "crime                      category\n",
       "n                             int64\n",
       "Pop                           int64\n",
       "Date_Crime           datetime64[ns]\n",
       "crime_cat                      int8\n",
       "talb_cat                       int8\n",
       "Date_GMP             datetime64[ns]\n",
       "dtype: object"
      ]
     },
     "execution_count": 33,
     "metadata": {},
     "output_type": "execute_result"
    }
   ],
   "source": [
    "df.dtypes"
   ]
  },
  {
   "cell_type": "code",
   "execution_count": 34,
   "metadata": {},
   "outputs": [],
   "source": [
    "cleaned = df.drop(columns=['crime','TALB'])"
   ]
  },
  {
   "cell_type": "code",
   "execution_count": 41,
   "metadata": {},
   "outputs": [],
   "source": [
    "df['GMP_standardized'] = StandardScaler().fit_transform(np.array(df['AU_GMP_PER_CAPITA']).reshape(-1,1))"
   ]
  },
  {
   "cell_type": "code",
   "execution_count": 42,
   "metadata": {},
   "outputs": [
    {
     "data": {
      "text/html": [
       "<div>\n",
       "<style scoped>\n",
       "    .dataframe tbody tr th:only-of-type {\n",
       "        vertical-align: middle;\n",
       "    }\n",
       "\n",
       "    .dataframe tbody tr th {\n",
       "        vertical-align: top;\n",
       "    }\n",
       "\n",
       "    .dataframe thead th {\n",
       "        text-align: right;\n",
       "    }\n",
       "</style>\n",
       "<table border=\"1\" class=\"dataframe\">\n",
       "  <thead>\n",
       "    <tr style=\"text-align: right;\">\n",
       "      <th></th>\n",
       "      <th>AU2017_code</th>\n",
       "      <th>AU_GMP_PER_CAPITA</th>\n",
       "      <th>Dep_Index</th>\n",
       "      <th>TALB</th>\n",
       "      <th>crime</th>\n",
       "      <th>n</th>\n",
       "      <th>Pop</th>\n",
       "      <th>Date_Crime</th>\n",
       "      <th>crime_cat</th>\n",
       "      <th>talb_cat</th>\n",
       "      <th>Date_GMP</th>\n",
       "      <th>GMP_standardized</th>\n",
       "    </tr>\n",
       "  </thead>\n",
       "  <tbody>\n",
       "    <tr>\n",
       "      <th>0</th>\n",
       "      <td>500100</td>\n",
       "      <td>62.732541</td>\n",
       "      <td>9.0</td>\n",
       "      <td>Far North District</td>\n",
       "      <td>Abduction</td>\n",
       "      <td>0</td>\n",
       "      <td>401</td>\n",
       "      <td>2018-02-01</td>\n",
       "      <td>0</td>\n",
       "      <td>21</td>\n",
       "      <td>2013-03-01</td>\n",
       "      <td>0.18873</td>\n",
       "    </tr>\n",
       "    <tr>\n",
       "      <th>1</th>\n",
       "      <td>500100</td>\n",
       "      <td>62.732541</td>\n",
       "      <td>9.0</td>\n",
       "      <td>Far North District</td>\n",
       "      <td>Abduction</td>\n",
       "      <td>0</td>\n",
       "      <td>402</td>\n",
       "      <td>2018-03-01</td>\n",
       "      <td>0</td>\n",
       "      <td>21</td>\n",
       "      <td>2013-03-01</td>\n",
       "      <td>0.18873</td>\n",
       "    </tr>\n",
       "    <tr>\n",
       "      <th>2</th>\n",
       "      <td>500100</td>\n",
       "      <td>62.732541</td>\n",
       "      <td>9.0</td>\n",
       "      <td>Far North District</td>\n",
       "      <td>Abduction</td>\n",
       "      <td>0</td>\n",
       "      <td>408</td>\n",
       "      <td>2018-04-01</td>\n",
       "      <td>0</td>\n",
       "      <td>21</td>\n",
       "      <td>2013-03-01</td>\n",
       "      <td>0.18873</td>\n",
       "    </tr>\n",
       "    <tr>\n",
       "      <th>3</th>\n",
       "      <td>500100</td>\n",
       "      <td>62.732541</td>\n",
       "      <td>9.0</td>\n",
       "      <td>Far North District</td>\n",
       "      <td>Abduction</td>\n",
       "      <td>0</td>\n",
       "      <td>409</td>\n",
       "      <td>2018-05-01</td>\n",
       "      <td>0</td>\n",
       "      <td>21</td>\n",
       "      <td>2013-03-01</td>\n",
       "      <td>0.18873</td>\n",
       "    </tr>\n",
       "    <tr>\n",
       "      <th>4</th>\n",
       "      <td>500100</td>\n",
       "      <td>62.732541</td>\n",
       "      <td>9.0</td>\n",
       "      <td>Far North District</td>\n",
       "      <td>Abduction</td>\n",
       "      <td>0</td>\n",
       "      <td>410</td>\n",
       "      <td>2018-06-01</td>\n",
       "      <td>0</td>\n",
       "      <td>21</td>\n",
       "      <td>2013-03-01</td>\n",
       "      <td>0.18873</td>\n",
       "    </tr>\n",
       "  </tbody>\n",
       "</table>\n",
       "</div>"
      ],
      "text/plain": [
       "   AU2017_code  AU_GMP_PER_CAPITA  Dep_Index                TALB      crime  \\\n",
       "0       500100          62.732541        9.0  Far North District  Abduction   \n",
       "1       500100          62.732541        9.0  Far North District  Abduction   \n",
       "2       500100          62.732541        9.0  Far North District  Abduction   \n",
       "3       500100          62.732541        9.0  Far North District  Abduction   \n",
       "4       500100          62.732541        9.0  Far North District  Abduction   \n",
       "\n",
       "   n  Pop Date_Crime  crime_cat  talb_cat   Date_GMP  GMP_standardized  \n",
       "0  0  401 2018-02-01          0        21 2013-03-01           0.18873  \n",
       "1  0  402 2018-03-01          0        21 2013-03-01           0.18873  \n",
       "2  0  408 2018-04-01          0        21 2013-03-01           0.18873  \n",
       "3  0  409 2018-05-01          0        21 2013-03-01           0.18873  \n",
       "4  0  410 2018-06-01          0        21 2013-03-01           0.18873  "
      ]
     },
     "execution_count": 42,
     "metadata": {},
     "output_type": "execute_result"
    }
   ],
   "source": [
    "df.head()"
   ]
  },
  {
   "cell_type": "code",
   "execution_count": 52,
   "metadata": {},
   "outputs": [
    {
     "name": "stderr",
     "output_type": "stream",
     "text": [
      "/Users/keri/anaconda/envs/python3/lib/python3.6/site-packages/numpy/core/_asarray.py:83: VisibleDeprecationWarning: Creating an ndarray from ragged nested sequences (which is a list-or-tuple of lists-or-tuples-or ndarrays with different lengths or shapes) is deprecated. If you meant to do this, you must specify 'dtype=object' when creating the ndarray\n",
      "  return array(a, dtype, copy=False, order=order)\n"
     ]
    },
    {
     "data": {
      "image/png": "[encoded data removed]",
      "text/plain": [
       "<Figure size 720x720 with 1 Axes>"
      ]
     },
     "metadata": {
      "needs_background": "light"
     },
     "output_type": "display_data"
    }
   ],
   "source": [
    "fig,ax = plt.subplots(figsize=(10,10))\n",
    "df.boxplot(column='GMP_standardized',by=['TALB'],rot=90,ax=ax)\n",
    "plt.savefig('/Users/keri/git/DotLovesData/visuals/boxplotStandardizedGMPByTALB')\n",
    "#plt.tight_layout()"
   ]
  },
  {
   "cell_type": "code",
   "execution_count": 53,
   "metadata": {},
   "outputs": [],
   "source": [
    "dfNoStandard = df.drop(\"GMP_standardized\",1)"
   ]
  },
  {
   "cell_type": "code",
   "execution_count": 55,
   "metadata": {},
   "outputs": [],
   "source": [
    "dfNoStandard.drop(columns=['crime','TALB'],inplace=True)"
   ]
  },
  {
   "cell_type": "code",
   "execution_count": 56,
   "metadata": {},
   "outputs": [
    {
     "data": {
      "text/html": [
       "<div>\n",
       "<style scoped>\n",
       "    .dataframe tbody tr th:only-of-type {\n",
       "        vertical-align: middle;\n",
       "    }\n",
       "\n",
       "    .dataframe tbody tr th {\n",
       "        vertical-align: top;\n",
       "    }\n",
       "\n",
       "    .dataframe thead th {\n",
       "        text-align: right;\n",
       "    }\n",
       "</style>\n",
       "<table border=\"1\" class=\"dataframe\">\n",
       "  <thead>\n",
       "    <tr style=\"text-align: right;\">\n",
       "      <th></th>\n",
       "      <th>AU2017_code</th>\n",
       "      <th>AU_GMP_PER_CAPITA</th>\n",
       "      <th>Dep_Index</th>\n",
       "      <th>n</th>\n",
       "      <th>Pop</th>\n",
       "      <th>Date_Crime</th>\n",
       "      <th>crime_cat</th>\n",
       "      <th>talb_cat</th>\n",
       "      <th>Date_GMP</th>\n",
       "    </tr>\n",
       "  </thead>\n",
       "  <tbody>\n",
       "    <tr>\n",
       "      <th>0</th>\n",
       "      <td>500100</td>\n",
       "      <td>62.732541</td>\n",
       "      <td>9.0</td>\n",
       "      <td>0</td>\n",
       "      <td>401</td>\n",
       "      <td>2018-02-01</td>\n",
       "      <td>0</td>\n",
       "      <td>21</td>\n",
       "      <td>2013-03-01</td>\n",
       "    </tr>\n",
       "    <tr>\n",
       "      <th>1</th>\n",
       "      <td>500100</td>\n",
       "      <td>62.732541</td>\n",
       "      <td>9.0</td>\n",
       "      <td>0</td>\n",
       "      <td>402</td>\n",
       "      <td>2018-03-01</td>\n",
       "      <td>0</td>\n",
       "      <td>21</td>\n",
       "      <td>2013-03-01</td>\n",
       "    </tr>\n",
       "    <tr>\n",
       "      <th>2</th>\n",
       "      <td>500100</td>\n",
       "      <td>62.732541</td>\n",
       "      <td>9.0</td>\n",
       "      <td>0</td>\n",
       "      <td>408</td>\n",
       "      <td>2018-04-01</td>\n",
       "      <td>0</td>\n",
       "      <td>21</td>\n",
       "      <td>2013-03-01</td>\n",
       "    </tr>\n",
       "    <tr>\n",
       "      <th>3</th>\n",
       "      <td>500100</td>\n",
       "      <td>62.732541</td>\n",
       "      <td>9.0</td>\n",
       "      <td>0</td>\n",
       "      <td>409</td>\n",
       "      <td>2018-05-01</td>\n",
       "      <td>0</td>\n",
       "      <td>21</td>\n",
       "      <td>2013-03-01</td>\n",
       "    </tr>\n",
       "    <tr>\n",
       "      <th>4</th>\n",
       "      <td>500100</td>\n",
       "      <td>62.732541</td>\n",
       "      <td>9.0</td>\n",
       "      <td>0</td>\n",
       "      <td>410</td>\n",
       "      <td>2018-06-01</td>\n",
       "      <td>0</td>\n",
       "      <td>21</td>\n",
       "      <td>2013-03-01</td>\n",
       "    </tr>\n",
       "  </tbody>\n",
       "</table>\n",
       "</div>"
      ],
      "text/plain": [
       "   AU2017_code  AU_GMP_PER_CAPITA  Dep_Index  n  Pop Date_Crime  crime_cat  \\\n",
       "0       500100          62.732541        9.0  0  401 2018-02-01          0   \n",
       "1       500100          62.732541        9.0  0  402 2018-03-01          0   \n",
       "2       500100          62.732541        9.0  0  408 2018-04-01          0   \n",
       "3       500100          62.732541        9.0  0  409 2018-05-01          0   \n",
       "4       500100          62.732541        9.0  0  410 2018-06-01          0   \n",
       "\n",
       "   talb_cat   Date_GMP  \n",
       "0        21 2013-03-01  \n",
       "1        21 2013-03-01  \n",
       "2        21 2013-03-01  \n",
       "3        21 2013-03-01  \n",
       "4        21 2013-03-01  "
      ]
     },
     "execution_count": 56,
     "metadata": {},
     "output_type": "execute_result"
    }
   ],
   "source": [
    "dfNoStandard.head()"
   ]
  },
  {
   "cell_type": "markdown",
   "metadata": {},
   "source": [
    "# Look at correlation between features\n",
    "\n",
    "-- heatmap of pearson correlation coefficient\n",
    "\n",
    "-- using AU_GMP_PER_CAPITA as the y"
   ]
  },
  {
   "cell_type": "code",
   "execution_count": 57,
   "metadata": {},
   "outputs": [
    {
     "data": {
      "text/html": [
       "<div>\n",
       "<style scoped>\n",
       "    .dataframe tbody tr th:only-of-type {\n",
       "        vertical-align: middle;\n",
       "    }\n",
       "\n",
       "    .dataframe tbody tr th {\n",
       "        vertical-align: top;\n",
       "    }\n",
       "\n",
       "    .dataframe thead th {\n",
       "        text-align: right;\n",
       "    }\n",
       "</style>\n",
       "<table border=\"1\" class=\"dataframe\">\n",
       "  <thead>\n",
       "    <tr style=\"text-align: right;\">\n",
       "      <th></th>\n",
       "      <th>AU2017_code</th>\n",
       "      <th>Dep_Index</th>\n",
       "      <th>n</th>\n",
       "      <th>Pop</th>\n",
       "      <th>Date_Crime</th>\n",
       "      <th>crime_cat</th>\n",
       "      <th>talb_cat</th>\n",
       "      <th>Date_GMP</th>\n",
       "    </tr>\n",
       "  </thead>\n",
       "  <tbody>\n",
       "    <tr>\n",
       "      <th>0</th>\n",
       "      <td>500100</td>\n",
       "      <td>9.0</td>\n",
       "      <td>0</td>\n",
       "      <td>401</td>\n",
       "      <td>2018-02-01</td>\n",
       "      <td>0</td>\n",
       "      <td>21</td>\n",
       "      <td>2013-03-01</td>\n",
       "    </tr>\n",
       "    <tr>\n",
       "      <th>1</th>\n",
       "      <td>500100</td>\n",
       "      <td>9.0</td>\n",
       "      <td>0</td>\n",
       "      <td>402</td>\n",
       "      <td>2018-03-01</td>\n",
       "      <td>0</td>\n",
       "      <td>21</td>\n",
       "      <td>2013-03-01</td>\n",
       "    </tr>\n",
       "    <tr>\n",
       "      <th>2</th>\n",
       "      <td>500100</td>\n",
       "      <td>9.0</td>\n",
       "      <td>0</td>\n",
       "      <td>408</td>\n",
       "      <td>2018-04-01</td>\n",
       "      <td>0</td>\n",
       "      <td>21</td>\n",
       "      <td>2013-03-01</td>\n",
       "    </tr>\n",
       "    <tr>\n",
       "      <th>3</th>\n",
       "      <td>500100</td>\n",
       "      <td>9.0</td>\n",
       "      <td>0</td>\n",
       "      <td>409</td>\n",
       "      <td>2018-05-01</td>\n",
       "      <td>0</td>\n",
       "      <td>21</td>\n",
       "      <td>2013-03-01</td>\n",
       "    </tr>\n",
       "    <tr>\n",
       "      <th>4</th>\n",
       "      <td>500100</td>\n",
       "      <td>9.0</td>\n",
       "      <td>0</td>\n",
       "      <td>410</td>\n",
       "      <td>2018-06-01</td>\n",
       "      <td>0</td>\n",
       "      <td>21</td>\n",
       "      <td>2013-03-01</td>\n",
       "    </tr>\n",
       "  </tbody>\n",
       "</table>\n",
       "</div>"
      ],
      "text/plain": [
       "   AU2017_code  Dep_Index  n  Pop Date_Crime  crime_cat  talb_cat   Date_GMP\n",
       "0       500100        9.0  0  401 2018-02-01          0        21 2013-03-01\n",
       "1       500100        9.0  0  402 2018-03-01          0        21 2013-03-01\n",
       "2       500100        9.0  0  408 2018-04-01          0        21 2013-03-01\n",
       "3       500100        9.0  0  409 2018-05-01          0        21 2013-03-01\n",
       "4       500100        9.0  0  410 2018-06-01          0        21 2013-03-01"
      ]
     },
     "execution_count": 57,
     "metadata": {},
     "output_type": "execute_result"
    }
   ],
   "source": [
    "X = dfNoStandard.drop(\"AU_GMP_PER_CAPITA\",1)   #Feature Matrix\n",
    "y = dfNoStandard[\"AU_GMP_PER_CAPITA\"]          #Target Variable\n",
    "X.head()\n"
   ]
  },
  {
   "cell_type": "code",
   "execution_count": 64,
   "metadata": {},
   "outputs": [
    {
     "data": {
      "image/png": "[encoded data removed]",
      "text/plain": [
       "<Figure size 864x720 with 2 Axes>"
      ]
     },
     "metadata": {
      "needs_background": "light"
     },
     "output_type": "display_data"
    }
   ],
   "source": [
    "plt.figure(figsize=(12,10))\n",
    "cor = dfNoStandard[['AU_GMP_PER_CAPITA','Dep_Index','n','Pop']].corr()\n",
    "sns.heatmap(cor, annot=True, cmap=plt.cm.Reds)\n",
    "plt.savefig('/Users/keri/git/DotLovesData/visuals/correlationPlot.png')\n",
    "plt.show()"
   ]
  },
  {
   "cell_type": "code",
   "execution_count": 63,
   "metadata": {},
   "outputs": [
    {
     "data": {
      "text/plain": [
       "(6897345, 9)"
      ]
     },
     "execution_count": 63,
     "metadata": {},
     "output_type": "execute_result"
    }
   ],
   "source": [
    "dfNoStandardrdStandard.shape"
   ]
  },
  {
   "cell_type": "code",
   "execution_count": null,
   "metadata": {},
   "outputs": [],
   "source": [
    "dfNoStandard.drop_duplicates()"
   ]
  },
  {
   "cell_type": "code",
   "execution_count": 62,
   "metadata": {},
   "outputs": [],
   "source": [
    "dfNoStandard.to_csv('/Users/keri/git/DotLovesData/data/formattedDf.csv',index=False)\n"
   ]
  },
  {
   "cell_type": "code",
   "execution_count": 61,
   "metadata": {},
   "outputs": [],
   "source": [
    "df.to_csv('/Users/keri/git/DotLovesData/data/formattedDfWithColumns.csv',index=False)"
   ]
  },
  {
   "cell_type": "code",
   "execution_count": null,
   "metadata": {},
   "outputs": [],
   "source": []
  }
 ],
 "metadata": {
  "kernelspec": {
   "display_name": "Python 3",
   "language": "python",
   "name": "python3"
  },
  "language_info": {
   "codemirror_mode": {
    "name": "ipython",
    "version": 3
   },
   "file_extension": ".py",
   "mimetype": "text/x-python",
   "name": "python",
   "nbconvert_exporter": "python",
   "pygments_lexer": "ipython3",
   "version": "3.6.11"
  }
 },
 "nbformat": 4,
 "nbformat_minor": 4
}
